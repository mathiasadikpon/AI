{
  "nbformat": 4,
  "nbformat_minor": 0,
  "metadata": {
    "colab": {
      "name": "Week 4 Homework.ipynb",
      "provenance": [],
      "authorship_tag": "ABX9TyM4DXna81wcZ0W6ZvnJ6K6A",
      "include_colab_link": true
    },
    "kernelspec": {
      "name": "python3",
      "display_name": "Python 3"
    }
  },
  "cells": [
    {
      "cell_type": "markdown",
      "metadata": {
        "id": "view-in-github",
        "colab_type": "text"
      },
      "source": [
        "<a href=\"https://colab.research.google.com/github/mathiasadikpon/AI/blob/main/Week_4_Homework.ipynb\" target=\"_parent\"><img src=\"https://colab.research.google.com/assets/colab-badge.svg\" alt=\"Open In Colab\"/></a>"
      ]
    },
    {
      "cell_type": "markdown",
      "metadata": {
        "id": "lxYm5bPhebZX"
      },
      "source": [
        "Week 4 Homework\n"
      ]
    },
    {
      "cell_type": "code",
      "metadata": {
        "id": "DYH5_BvueiQ6"
      },
      "source": [
        "import numpy as np\n",
        "import pandas as pd\n",
        "import matplotlib.pyplot as plt\n",
        "%matplotlib inline"
      ],
      "execution_count": null,
      "outputs": []
    },
    {
      "cell_type": "markdown",
      "metadata": {
        "id": "7coLk142l-Yc"
      },
      "source": [
        "\n",
        "1. Load the data set"
      ]
    },
    {
      "cell_type": "code",
      "metadata": {
        "colab": {
          "base_uri": "https://localhost:8080/",
          "height": 202
        },
        "id": "S9bpnM9ffiDn",
        "outputId": "43ffc8f6-82f6-4b07-f219-354ee8cb1a4b"
      },
      "source": [
        "url = \"https://raw.githubusercontent.com/empathy87/The-Elements-of-Statistical-Learning-Python-Notebooks/master/data/mixture.txt\"\n",
        "# Open the url in web brower and learn its raw format\n",
        "\n",
        "# Load to Python as a data frame\n",
        "raw_data = pd.read_csv(url, sep=',')\n",
        "\n",
        "# Display first 5 rows\n",
        "raw_data.head()"
      ],
      "execution_count": null,
      "outputs": [
        {
          "output_type": "execute_result",
          "data": {
            "text/html": [
              "<div>\n",
              "<style scoped>\n",
              "    .dataframe tbody tr th:only-of-type {\n",
              "        vertical-align: middle;\n",
              "    }\n",
              "\n",
              "    .dataframe tbody tr th {\n",
              "        vertical-align: top;\n",
              "    }\n",
              "\n",
              "    .dataframe thead th {\n",
              "        text-align: right;\n",
              "    }\n",
              "</style>\n",
              "<table border=\"1\" class=\"dataframe\">\n",
              "  <thead>\n",
              "    <tr style=\"text-align: right;\">\n",
              "      <th></th>\n",
              "      <th>x1</th>\n",
              "      <th>x2</th>\n",
              "      <th>y</th>\n",
              "    </tr>\n",
              "  </thead>\n",
              "  <tbody>\n",
              "    <tr>\n",
              "      <th>0</th>\n",
              "      <td>2.526093</td>\n",
              "      <td>0.321050</td>\n",
              "      <td>0</td>\n",
              "    </tr>\n",
              "    <tr>\n",
              "      <th>1</th>\n",
              "      <td>0.366954</td>\n",
              "      <td>0.031462</td>\n",
              "      <td>0</td>\n",
              "    </tr>\n",
              "    <tr>\n",
              "      <th>2</th>\n",
              "      <td>0.768219</td>\n",
              "      <td>0.717486</td>\n",
              "      <td>0</td>\n",
              "    </tr>\n",
              "    <tr>\n",
              "      <th>3</th>\n",
              "      <td>0.693436</td>\n",
              "      <td>0.777194</td>\n",
              "      <td>0</td>\n",
              "    </tr>\n",
              "    <tr>\n",
              "      <th>4</th>\n",
              "      <td>-0.019837</td>\n",
              "      <td>0.867254</td>\n",
              "      <td>0</td>\n",
              "    </tr>\n",
              "  </tbody>\n",
              "</table>\n",
              "</div>"
            ],
            "text/plain": [
              "         x1        x2  y\n",
              "0  2.526093  0.321050  0\n",
              "1  0.366954  0.031462  0\n",
              "2  0.768219  0.717486  0\n",
              "3  0.693436  0.777194  0\n",
              "4 -0.019837  0.867254  0"
            ]
          },
          "metadata": {
            "tags": []
          },
          "execution_count": 51
        }
      ]
    },
    {
      "cell_type": "markdown",
      "metadata": {
        "id": "QBFLhaTClvQQ"
      },
      "source": [
        "\n",
        "2. Split the data into 80% training data and 20% test data"
      ]
    },
    {
      "cell_type": "code",
      "metadata": {
        "id": "9AeEKdAolKfP"
      },
      "source": [
        "# train_test_split\n",
        "from sklearn.model_selection import train_test_split\n",
        "training_data, test_data = train_test_split(raw_data, test_size=0.2)\n"
      ],
      "execution_count": null,
      "outputs": []
    },
    {
      "cell_type": "markdown",
      "metadata": {
        "id": "zKJw9YyKmohe"
      },
      "source": [
        "3. Built three k-nearest-neighbor model with k = 1, 5, 25 respectively\n"
      ]
    },
    {
      "cell_type": "code",
      "metadata": {
        "colab": {
          "base_uri": "https://localhost:8080/"
        },
        "id": "M2xS9eq7iwRP",
        "outputId": "70440a6c-6b07-43ba-e5f5-a8464d20f6cf"
      },
      "source": [
        "# kNN model\n",
        "from sklearn.neighbors import KNeighborsClassifier\n",
        "# kNN model\n",
        "input_cols = ['x1', 'x2']\n",
        "# k = 1\n",
        "model_1nn = KNeighborsClassifier(n_neighbors=1)\n",
        "model_1nn.fit(training_data[input_cols], training_data['y'])\n",
        "\n",
        "# k = 5\n",
        "model_5nn = KNeighborsClassifier(n_neighbors=5)\n",
        "model_5nn.fit(training_data[input_cols], training_data['y'])\n",
        "\n",
        "# k = 25\n",
        "model_25nn = KNeighborsClassifier(n_neighbors=25)\n",
        "model_25nn.fit(training_data[input_cols], training_data['y'])\n",
        "  \n",
        "\n",
        "\n"
      ],
      "execution_count": null,
      "outputs": [
        {
          "output_type": "execute_result",
          "data": {
            "text/plain": [
              "KNeighborsClassifier(algorithm='auto', leaf_size=30, metric='minkowski',\n",
              "                     metric_params=None, n_jobs=None, n_neighbors=25, p=2,\n",
              "                     weights='uniform')"
            ]
          },
          "metadata": {
            "tags": []
          },
          "execution_count": 53
        }
      ]
    },
    {
      "cell_type": "markdown",
      "metadata": {
        "id": "ZfLsdE6wFlgt"
      },
      "source": [
        "4. Train the model on the training set, and obtain the model predictions on the test set"
      ]
    },
    {
      "cell_type": "code",
      "metadata": {
        "colab": {
          "base_uri": "https://localhost:8080/",
          "height": 514
        },
        "id": "aUXzsYr5Fg5g",
        "outputId": "efed74bd-8722-4166-8ed8-ad1550ed4d87"
      },
      "source": [
        "  # Find the model's predictions on the test set.\n",
        "  input_cols = ['x1', 'x2']\n",
        "  test_data['prediction1'] = model_1nn.predict(test_data[input_cols])\n",
        "\n",
        "  test_data['prediction5'] = model_5nn.predict(test_data[input_cols])\n",
        "\n",
        "  test_data['prediction25'] = model_25nn.predict(test_data[input_cols])\n",
        "  test_data.head()"
      ],
      "execution_count": null,
      "outputs": [
        {
          "output_type": "stream",
          "text": [
            "/usr/local/lib/python3.7/dist-packages/ipykernel_launcher.py:3: SettingWithCopyWarning: \n",
            "A value is trying to be set on a copy of a slice from a DataFrame.\n",
            "Try using .loc[row_indexer,col_indexer] = value instead\n",
            "\n",
            "See the caveats in the documentation: https://pandas.pydata.org/pandas-docs/stable/user_guide/indexing.html#returning-a-view-versus-a-copy\n",
            "  This is separate from the ipykernel package so we can avoid doing imports until\n",
            "/usr/local/lib/python3.7/dist-packages/ipykernel_launcher.py:5: SettingWithCopyWarning: \n",
            "A value is trying to be set on a copy of a slice from a DataFrame.\n",
            "Try using .loc[row_indexer,col_indexer] = value instead\n",
            "\n",
            "See the caveats in the documentation: https://pandas.pydata.org/pandas-docs/stable/user_guide/indexing.html#returning-a-view-versus-a-copy\n",
            "  \"\"\"\n",
            "/usr/local/lib/python3.7/dist-packages/ipykernel_launcher.py:7: SettingWithCopyWarning: \n",
            "A value is trying to be set on a copy of a slice from a DataFrame.\n",
            "Try using .loc[row_indexer,col_indexer] = value instead\n",
            "\n",
            "See the caveats in the documentation: https://pandas.pydata.org/pandas-docs/stable/user_guide/indexing.html#returning-a-view-versus-a-copy\n",
            "  import sys\n"
          ],
          "name": "stderr"
        },
        {
          "output_type": "execute_result",
          "data": {
            "text/html": [
              "<div>\n",
              "<style scoped>\n",
              "    .dataframe tbody tr th:only-of-type {\n",
              "        vertical-align: middle;\n",
              "    }\n",
              "\n",
              "    .dataframe tbody tr th {\n",
              "        vertical-align: top;\n",
              "    }\n",
              "\n",
              "    .dataframe thead th {\n",
              "        text-align: right;\n",
              "    }\n",
              "</style>\n",
              "<table border=\"1\" class=\"dataframe\">\n",
              "  <thead>\n",
              "    <tr style=\"text-align: right;\">\n",
              "      <th></th>\n",
              "      <th>x1</th>\n",
              "      <th>x2</th>\n",
              "      <th>y</th>\n",
              "      <th>prediction1</th>\n",
              "      <th>prediction5</th>\n",
              "      <th>prediction25</th>\n",
              "    </tr>\n",
              "  </thead>\n",
              "  <tbody>\n",
              "    <tr>\n",
              "      <th>192</th>\n",
              "      <td>0.205456</td>\n",
              "      <td>2.688558</td>\n",
              "      <td>1</td>\n",
              "      <td>1</td>\n",
              "      <td>1</td>\n",
              "      <td>1</td>\n",
              "    </tr>\n",
              "    <tr>\n",
              "      <th>195</th>\n",
              "      <td>0.256750</td>\n",
              "      <td>2.293605</td>\n",
              "      <td>1</td>\n",
              "      <td>0</td>\n",
              "      <td>1</td>\n",
              "      <td>1</td>\n",
              "    </tr>\n",
              "    <tr>\n",
              "      <th>53</th>\n",
              "      <td>-0.302275</td>\n",
              "      <td>0.886233</td>\n",
              "      <td>0</td>\n",
              "      <td>1</td>\n",
              "      <td>1</td>\n",
              "      <td>1</td>\n",
              "    </tr>\n",
              "    <tr>\n",
              "      <th>75</th>\n",
              "      <td>0.951265</td>\n",
              "      <td>-1.095890</td>\n",
              "      <td>0</td>\n",
              "      <td>0</td>\n",
              "      <td>0</td>\n",
              "      <td>0</td>\n",
              "    </tr>\n",
              "    <tr>\n",
              "      <th>147</th>\n",
              "      <td>0.125021</td>\n",
              "      <td>1.165594</td>\n",
              "      <td>1</td>\n",
              "      <td>1</td>\n",
              "      <td>1</td>\n",
              "      <td>1</td>\n",
              "    </tr>\n",
              "  </tbody>\n",
              "</table>\n",
              "</div>"
            ],
            "text/plain": [
              "           x1        x2  y  prediction1  prediction5  prediction25\n",
              "192  0.205456  2.688558  1            1            1             1\n",
              "195  0.256750  2.293605  1            0            1             1\n",
              "53  -0.302275  0.886233  0            1            1             1\n",
              "75   0.951265 -1.095890  0            0            0             0\n",
              "147  0.125021  1.165594  1            1            1             1"
            ]
          },
          "metadata": {
            "tags": []
          },
          "execution_count": 54
        }
      ]
    },
    {
      "cell_type": "markdown",
      "metadata": {
        "id": "OUnPfyqpF4dA"
      },
      "source": [
        "5. Calculate the test accuracy score for each model."
      ]
    },
    {
      "cell_type": "code",
      "metadata": {
        "colab": {
          "base_uri": "https://localhost:8080/"
        },
        "id": "0FUJDPV6F1CO",
        "outputId": "9c84fcfa-3d59-44e7-adff-5fb502e7566a"
      },
      "source": [
        "# Calculate the accuracy score on the test set.\n",
        "# accuracy_score()\n",
        "from sklearn.metrics import accuracy_score\n",
        "score_dict = dict()\n",
        "score_dict[1] = accuracy_score(test_data['y'], test_data['prediction1'])\n",
        "print(\"Accuracy score for K = 1 :\", accuracy_score(test_data['y'], test_data['prediction1']))\n",
        "\n",
        "score_dict[5] = accuracy_score(test_data['y'], test_data['prediction5'])\n",
        "print(\"Accuracy score for K = 5 :\", accuracy_score(test_data['y'], test_data['prediction5']))\n",
        "\n",
        "score_dict[25] = accuracy_score(test_data['y'], test_data['prediction25'])\n",
        "print(\"Accuracy score for K = 25 :\", accuracy_score(test_data['y'], test_data['prediction25']))\n",
        "\n"
      ],
      "execution_count": null,
      "outputs": [
        {
          "output_type": "stream",
          "text": [
            "Accuracy score for K = 1 : 0.725\n",
            "Accuracy score for K = 5 : 0.775\n",
            "Accuracy score for K = 25 : 0.75\n"
          ],
          "name": "stdout"
        }
      ]
    },
    {
      "cell_type": "code",
      "metadata": {
        "colab": {
          "base_uri": "https://localhost:8080/"
        },
        "id": "mUnIoBxH2iga",
        "outputId": "76cf1823-f4dd-4e77-ab54-6a25a248d78d"
      },
      "source": [
        "max_score = score_dict[1]\n",
        "\n",
        "print('The K value that gives the best accuracy score, we have:', end = \" \")\n",
        "for m in score_dict.values():\n",
        "  if m > max_score:\n",
        "    max_score = m\n",
        "\n",
        "for k in score_dict.keys():\n",
        "  if score_dict[k] == max_score:\n",
        "    print(k, end= ' ')"
      ],
      "execution_count": null,
      "outputs": [
        {
          "output_type": "stream",
          "text": [
            "The K value that gives the best accuracy score, we have: 5 "
          ],
          "name": "stdout"
        }
      ]
    }
  ]
}