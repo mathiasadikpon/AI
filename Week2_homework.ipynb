{
  "nbformat": 4,
  "nbformat_minor": 0,
  "metadata": {
    "colab": {
      "name": "Week2_homework",
      "provenance": [],
      "collapsed_sections": [],
      "authorship_tag": "ABX9TyO2p7l6IaYfoN/kBHnoBt9K",
      "include_colab_link": true
    },
    "kernelspec": {
      "name": "python3",
      "display_name": "Python 3"
    }
  },
  "cells": [
    {
      "cell_type": "markdown",
      "metadata": {
        "id": "view-in-github",
        "colab_type": "text"
      },
      "source": [
        "<a href=\"https://colab.research.google.com/github/mathiasadikpon/AI/blob/main/Week2_homework.ipynb\" target=\"_parent\"><img src=\"https://colab.research.google.com/assets/colab-badge.svg\" alt=\"Open In Colab\"/></a>"
      ]
    },
    {
      "cell_type": "markdown",
      "metadata": {
        "id": "85r7BUJUjK8V"
      },
      "source": [
        "Build a linear model (height = m * year + b) to describe the trend of height increase for United Kingdom between 1900 and 1980. Compute the mean square error of your model, and display the model line together with the data points. "
      ]
    },
    {
      "cell_type": "code",
      "metadata": {
        "id": "AS5SHG-b-_k5",
        "colab": {
          "base_uri": "https://localhost:8080/"
        },
        "outputId": "43878f58-f8cc-484d-cba9-aab2fc14d620"
      },
      "source": [
        "!ls"
      ],
      "execution_count": null,
      "outputs": [
        {
          "output_type": "stream",
          "text": [
            "average-height-of-men-for-selected-countries.csv  sample_data\n"
          ],
          "name": "stdout"
        }
      ]
    },
    {
      "cell_type": "code",
      "metadata": {
        "id": "7-XIF31HNoeN"
      },
      "source": [
        "import numpy as np  # scientific computation\n",
        "import pandas as pd  # data handling\n",
        "import matplotlib.pyplot as plt  # plotting\n",
        "# The following \"magic command\" allows figures to be displayed automatically in notebook\n",
        "%matplotlib inline \n"
      ],
      "execution_count": null,
      "outputs": []
    },
    {
      "cell_type": "code",
      "metadata": {
        "id": "ruQ7MpR7ORpB"
      },
      "source": [
        "raw_data = pd.read_csv(\"average-height-of-men-for-selected-countries.csv\", sep=',')"
      ],
      "execution_count": null,
      "outputs": []
    },
    {
      "cell_type": "code",
      "metadata": {
        "id": "RqDOHY1XOgw7",
        "colab": {
          "base_uri": "https://localhost:8080/",
          "height": 202
        },
        "outputId": "fb84dd85-2f0f-4e92-dead-b06712a2e07a"
      },
      "source": [
        "#Extract US Data\n",
        "raw_data.head()"
      ],
      "execution_count": null,
      "outputs": [
        {
          "output_type": "execute_result",
          "data": {
            "text/html": [
              "<div>\n",
              "<style scoped>\n",
              "    .dataframe tbody tr th:only-of-type {\n",
              "        vertical-align: middle;\n",
              "    }\n",
              "\n",
              "    .dataframe tbody tr th {\n",
              "        vertical-align: top;\n",
              "    }\n",
              "\n",
              "    .dataframe thead th {\n",
              "        text-align: right;\n",
              "    }\n",
              "</style>\n",
              "<table border=\"1\" class=\"dataframe\">\n",
              "  <thead>\n",
              "    <tr style=\"text-align: right;\">\n",
              "      <th></th>\n",
              "      <th>Entity</th>\n",
              "      <th>Code</th>\n",
              "      <th>Year</th>\n",
              "      <th>Human Height (University of Tuebingen (2015))</th>\n",
              "    </tr>\n",
              "  </thead>\n",
              "  <tbody>\n",
              "    <tr>\n",
              "      <th>0</th>\n",
              "      <td>Afghanistan</td>\n",
              "      <td>AFG</td>\n",
              "      <td>1870</td>\n",
              "      <td>168.4</td>\n",
              "    </tr>\n",
              "    <tr>\n",
              "      <th>1</th>\n",
              "      <td>Afghanistan</td>\n",
              "      <td>AFG</td>\n",
              "      <td>1880</td>\n",
              "      <td>165.7</td>\n",
              "    </tr>\n",
              "    <tr>\n",
              "      <th>2</th>\n",
              "      <td>Afghanistan</td>\n",
              "      <td>AFG</td>\n",
              "      <td>1930</td>\n",
              "      <td>166.8</td>\n",
              "    </tr>\n",
              "    <tr>\n",
              "      <th>3</th>\n",
              "      <td>Albania</td>\n",
              "      <td>ALB</td>\n",
              "      <td>1880</td>\n",
              "      <td>170.1</td>\n",
              "    </tr>\n",
              "    <tr>\n",
              "      <th>4</th>\n",
              "      <td>Albania</td>\n",
              "      <td>ALB</td>\n",
              "      <td>1890</td>\n",
              "      <td>169.8</td>\n",
              "    </tr>\n",
              "  </tbody>\n",
              "</table>\n",
              "</div>"
            ],
            "text/plain": [
              "        Entity Code  Year  Human Height (University of Tuebingen (2015))\n",
              "0  Afghanistan  AFG  1870                                          168.4\n",
              "1  Afghanistan  AFG  1880                                          165.7\n",
              "2  Afghanistan  AFG  1930                                          166.8\n",
              "3      Albania  ALB  1880                                          170.1\n",
              "4      Albania  ALB  1890                                          169.8"
            ]
          },
          "metadata": {
            "tags": []
          },
          "execution_count": 131
        }
      ]
    },
    {
      "cell_type": "code",
      "metadata": {
        "colab": {
          "base_uri": "https://localhost:8080/",
          "height": 601
        },
        "id": "xYJE4yO-PbXA",
        "outputId": "8bc5450e-0843-4dfb-b703-5c823595d4ae"
      },
      "source": [
        "filter1 = (raw_data['Entity'] == \"United Kingdom\")\n",
        "data = raw_data[filter1]\n",
        "data"
      ],
      "execution_count": null,
      "outputs": [
        {
          "output_type": "execute_result",
          "data": {
            "text/html": [
              "<div>\n",
              "<style scoped>\n",
              "    .dataframe tbody tr th:only-of-type {\n",
              "        vertical-align: middle;\n",
              "    }\n",
              "\n",
              "    .dataframe tbody tr th {\n",
              "        vertical-align: top;\n",
              "    }\n",
              "\n",
              "    .dataframe thead th {\n",
              "        text-align: right;\n",
              "    }\n",
              "</style>\n",
              "<table border=\"1\" class=\"dataframe\">\n",
              "  <thead>\n",
              "    <tr style=\"text-align: right;\">\n",
              "      <th></th>\n",
              "      <th>Entity</th>\n",
              "      <th>Code</th>\n",
              "      <th>Year</th>\n",
              "      <th>Human Height (University of Tuebingen (2015))</th>\n",
              "    </tr>\n",
              "  </thead>\n",
              "  <tbody>\n",
              "    <tr>\n",
              "      <th>1176</th>\n",
              "      <td>United Kingdom</td>\n",
              "      <td>GBR</td>\n",
              "      <td>1810</td>\n",
              "      <td>169.7</td>\n",
              "    </tr>\n",
              "    <tr>\n",
              "      <th>1177</th>\n",
              "      <td>United Kingdom</td>\n",
              "      <td>GBR</td>\n",
              "      <td>1820</td>\n",
              "      <td>169.1</td>\n",
              "    </tr>\n",
              "    <tr>\n",
              "      <th>1178</th>\n",
              "      <td>United Kingdom</td>\n",
              "      <td>GBR</td>\n",
              "      <td>1830</td>\n",
              "      <td>166.7</td>\n",
              "    </tr>\n",
              "    <tr>\n",
              "      <th>1179</th>\n",
              "      <td>United Kingdom</td>\n",
              "      <td>GBR</td>\n",
              "      <td>1840</td>\n",
              "      <td>166.5</td>\n",
              "    </tr>\n",
              "    <tr>\n",
              "      <th>1180</th>\n",
              "      <td>United Kingdom</td>\n",
              "      <td>GBR</td>\n",
              "      <td>1850</td>\n",
              "      <td>165.6</td>\n",
              "    </tr>\n",
              "    <tr>\n",
              "      <th>1181</th>\n",
              "      <td>United Kingdom</td>\n",
              "      <td>GBR</td>\n",
              "      <td>1860</td>\n",
              "      <td>166.6</td>\n",
              "    </tr>\n",
              "    <tr>\n",
              "      <th>1182</th>\n",
              "      <td>United Kingdom</td>\n",
              "      <td>GBR</td>\n",
              "      <td>1870</td>\n",
              "      <td>167.2</td>\n",
              "    </tr>\n",
              "    <tr>\n",
              "      <th>1183</th>\n",
              "      <td>United Kingdom</td>\n",
              "      <td>GBR</td>\n",
              "      <td>1880</td>\n",
              "      <td>168.0</td>\n",
              "    </tr>\n",
              "    <tr>\n",
              "      <th>1184</th>\n",
              "      <td>United Kingdom</td>\n",
              "      <td>GBR</td>\n",
              "      <td>1890</td>\n",
              "      <td>167.4</td>\n",
              "    </tr>\n",
              "    <tr>\n",
              "      <th>1185</th>\n",
              "      <td>United Kingdom</td>\n",
              "      <td>GBR</td>\n",
              "      <td>1900</td>\n",
              "      <td>169.4</td>\n",
              "    </tr>\n",
              "    <tr>\n",
              "      <th>1186</th>\n",
              "      <td>United Kingdom</td>\n",
              "      <td>GBR</td>\n",
              "      <td>1910</td>\n",
              "      <td>170.9</td>\n",
              "    </tr>\n",
              "    <tr>\n",
              "      <th>1187</th>\n",
              "      <td>United Kingdom</td>\n",
              "      <td>GBR</td>\n",
              "      <td>1920</td>\n",
              "      <td>171.0</td>\n",
              "    </tr>\n",
              "    <tr>\n",
              "      <th>1188</th>\n",
              "      <td>United Kingdom</td>\n",
              "      <td>GBR</td>\n",
              "      <td>1930</td>\n",
              "      <td>173.9</td>\n",
              "    </tr>\n",
              "    <tr>\n",
              "      <th>1189</th>\n",
              "      <td>United Kingdom</td>\n",
              "      <td>GBR</td>\n",
              "      <td>1940</td>\n",
              "      <td>174.9</td>\n",
              "    </tr>\n",
              "    <tr>\n",
              "      <th>1190</th>\n",
              "      <td>United Kingdom</td>\n",
              "      <td>GBR</td>\n",
              "      <td>1950</td>\n",
              "      <td>176.0</td>\n",
              "    </tr>\n",
              "    <tr>\n",
              "      <th>1191</th>\n",
              "      <td>United Kingdom</td>\n",
              "      <td>GBR</td>\n",
              "      <td>1960</td>\n",
              "      <td>176.9</td>\n",
              "    </tr>\n",
              "    <tr>\n",
              "      <th>1192</th>\n",
              "      <td>United Kingdom</td>\n",
              "      <td>GBR</td>\n",
              "      <td>1970</td>\n",
              "      <td>177.1</td>\n",
              "    </tr>\n",
              "    <tr>\n",
              "      <th>1193</th>\n",
              "      <td>United Kingdom</td>\n",
              "      <td>GBR</td>\n",
              "      <td>1980</td>\n",
              "      <td>176.8</td>\n",
              "    </tr>\n",
              "  </tbody>\n",
              "</table>\n",
              "</div>"
            ],
            "text/plain": [
              "              Entity Code  Year  Human Height (University of Tuebingen (2015))\n",
              "1176  United Kingdom  GBR  1810                                          169.7\n",
              "1177  United Kingdom  GBR  1820                                          169.1\n",
              "1178  United Kingdom  GBR  1830                                          166.7\n",
              "1179  United Kingdom  GBR  1840                                          166.5\n",
              "1180  United Kingdom  GBR  1850                                          165.6\n",
              "1181  United Kingdom  GBR  1860                                          166.6\n",
              "1182  United Kingdom  GBR  1870                                          167.2\n",
              "1183  United Kingdom  GBR  1880                                          168.0\n",
              "1184  United Kingdom  GBR  1890                                          167.4\n",
              "1185  United Kingdom  GBR  1900                                          169.4\n",
              "1186  United Kingdom  GBR  1910                                          170.9\n",
              "1187  United Kingdom  GBR  1920                                          171.0\n",
              "1188  United Kingdom  GBR  1930                                          173.9\n",
              "1189  United Kingdom  GBR  1940                                          174.9\n",
              "1190  United Kingdom  GBR  1950                                          176.0\n",
              "1191  United Kingdom  GBR  1960                                          176.9\n",
              "1192  United Kingdom  GBR  1970                                          177.1\n",
              "1193  United Kingdom  GBR  1980                                          176.8"
            ]
          },
          "metadata": {
            "tags": []
          },
          "execution_count": 132
        }
      ]
    },
    {
      "cell_type": "code",
      "metadata": {
        "colab": {
          "base_uri": "https://localhost:8080/",
          "height": 325
        },
        "id": "eqhLyr2-P8Ym",
        "outputId": "6e710360-e870-497e-9353-a02382d4340a"
      },
      "source": [
        "# Extract United Kingdom data since 1900.\n",
        "\n",
        "filter2 = (data[\"Year\"] >= 1900)\n",
        "data = data[filter2]\n",
        "data"
      ],
      "execution_count": null,
      "outputs": [
        {
          "output_type": "execute_result",
          "data": {
            "text/html": [
              "<div>\n",
              "<style scoped>\n",
              "    .dataframe tbody tr th:only-of-type {\n",
              "        vertical-align: middle;\n",
              "    }\n",
              "\n",
              "    .dataframe tbody tr th {\n",
              "        vertical-align: top;\n",
              "    }\n",
              "\n",
              "    .dataframe thead th {\n",
              "        text-align: right;\n",
              "    }\n",
              "</style>\n",
              "<table border=\"1\" class=\"dataframe\">\n",
              "  <thead>\n",
              "    <tr style=\"text-align: right;\">\n",
              "      <th></th>\n",
              "      <th>Entity</th>\n",
              "      <th>Code</th>\n",
              "      <th>Year</th>\n",
              "      <th>Human Height (University of Tuebingen (2015))</th>\n",
              "    </tr>\n",
              "  </thead>\n",
              "  <tbody>\n",
              "    <tr>\n",
              "      <th>1185</th>\n",
              "      <td>United Kingdom</td>\n",
              "      <td>GBR</td>\n",
              "      <td>1900</td>\n",
              "      <td>169.4</td>\n",
              "    </tr>\n",
              "    <tr>\n",
              "      <th>1186</th>\n",
              "      <td>United Kingdom</td>\n",
              "      <td>GBR</td>\n",
              "      <td>1910</td>\n",
              "      <td>170.9</td>\n",
              "    </tr>\n",
              "    <tr>\n",
              "      <th>1187</th>\n",
              "      <td>United Kingdom</td>\n",
              "      <td>GBR</td>\n",
              "      <td>1920</td>\n",
              "      <td>171.0</td>\n",
              "    </tr>\n",
              "    <tr>\n",
              "      <th>1188</th>\n",
              "      <td>United Kingdom</td>\n",
              "      <td>GBR</td>\n",
              "      <td>1930</td>\n",
              "      <td>173.9</td>\n",
              "    </tr>\n",
              "    <tr>\n",
              "      <th>1189</th>\n",
              "      <td>United Kingdom</td>\n",
              "      <td>GBR</td>\n",
              "      <td>1940</td>\n",
              "      <td>174.9</td>\n",
              "    </tr>\n",
              "    <tr>\n",
              "      <th>1190</th>\n",
              "      <td>United Kingdom</td>\n",
              "      <td>GBR</td>\n",
              "      <td>1950</td>\n",
              "      <td>176.0</td>\n",
              "    </tr>\n",
              "    <tr>\n",
              "      <th>1191</th>\n",
              "      <td>United Kingdom</td>\n",
              "      <td>GBR</td>\n",
              "      <td>1960</td>\n",
              "      <td>176.9</td>\n",
              "    </tr>\n",
              "    <tr>\n",
              "      <th>1192</th>\n",
              "      <td>United Kingdom</td>\n",
              "      <td>GBR</td>\n",
              "      <td>1970</td>\n",
              "      <td>177.1</td>\n",
              "    </tr>\n",
              "    <tr>\n",
              "      <th>1193</th>\n",
              "      <td>United Kingdom</td>\n",
              "      <td>GBR</td>\n",
              "      <td>1980</td>\n",
              "      <td>176.8</td>\n",
              "    </tr>\n",
              "  </tbody>\n",
              "</table>\n",
              "</div>"
            ],
            "text/plain": [
              "              Entity Code  Year  Human Height (University of Tuebingen (2015))\n",
              "1185  United Kingdom  GBR  1900                                          169.4\n",
              "1186  United Kingdom  GBR  1910                                          170.9\n",
              "1187  United Kingdom  GBR  1920                                          171.0\n",
              "1188  United Kingdom  GBR  1930                                          173.9\n",
              "1189  United Kingdom  GBR  1940                                          174.9\n",
              "1190  United Kingdom  GBR  1950                                          176.0\n",
              "1191  United Kingdom  GBR  1960                                          176.9\n",
              "1192  United Kingdom  GBR  1970                                          177.1\n",
              "1193  United Kingdom  GBR  1980                                          176.8"
            ]
          },
          "metadata": {
            "tags": []
          },
          "execution_count": 133
        }
      ]
    },
    {
      "cell_type": "code",
      "metadata": {
        "colab": {
          "base_uri": "https://localhost:8080/",
          "height": 233
        },
        "id": "om4SWdZUQ70O",
        "outputId": "43692629-5c6c-4b7f-f85f-a70cb6ab4067"
      },
      "source": [
        "# Reset index\n",
        "data = data.set_index([\"Year\"])\n",
        "data.head()"
      ],
      "execution_count": null,
      "outputs": [
        {
          "output_type": "execute_result",
          "data": {
            "text/html": [
              "<div>\n",
              "<style scoped>\n",
              "    .dataframe tbody tr th:only-of-type {\n",
              "        vertical-align: middle;\n",
              "    }\n",
              "\n",
              "    .dataframe tbody tr th {\n",
              "        vertical-align: top;\n",
              "    }\n",
              "\n",
              "    .dataframe thead th {\n",
              "        text-align: right;\n",
              "    }\n",
              "</style>\n",
              "<table border=\"1\" class=\"dataframe\">\n",
              "  <thead>\n",
              "    <tr style=\"text-align: right;\">\n",
              "      <th></th>\n",
              "      <th>Entity</th>\n",
              "      <th>Code</th>\n",
              "      <th>Human Height (University of Tuebingen (2015))</th>\n",
              "    </tr>\n",
              "    <tr>\n",
              "      <th>Year</th>\n",
              "      <th></th>\n",
              "      <th></th>\n",
              "      <th></th>\n",
              "    </tr>\n",
              "  </thead>\n",
              "  <tbody>\n",
              "    <tr>\n",
              "      <th>1900</th>\n",
              "      <td>United Kingdom</td>\n",
              "      <td>GBR</td>\n",
              "      <td>169.4</td>\n",
              "    </tr>\n",
              "    <tr>\n",
              "      <th>1910</th>\n",
              "      <td>United Kingdom</td>\n",
              "      <td>GBR</td>\n",
              "      <td>170.9</td>\n",
              "    </tr>\n",
              "    <tr>\n",
              "      <th>1920</th>\n",
              "      <td>United Kingdom</td>\n",
              "      <td>GBR</td>\n",
              "      <td>171.0</td>\n",
              "    </tr>\n",
              "    <tr>\n",
              "      <th>1930</th>\n",
              "      <td>United Kingdom</td>\n",
              "      <td>GBR</td>\n",
              "      <td>173.9</td>\n",
              "    </tr>\n",
              "    <tr>\n",
              "      <th>1940</th>\n",
              "      <td>United Kingdom</td>\n",
              "      <td>GBR</td>\n",
              "      <td>174.9</td>\n",
              "    </tr>\n",
              "  </tbody>\n",
              "</table>\n",
              "</div>"
            ],
            "text/plain": [
              "              Entity Code  Human Height (University of Tuebingen (2015))\n",
              "Year                                                                    \n",
              "1900  United Kingdom  GBR                                          169.4\n",
              "1910  United Kingdom  GBR                                          170.9\n",
              "1920  United Kingdom  GBR                                          171.0\n",
              "1930  United Kingdom  GBR                                          173.9\n",
              "1940  United Kingdom  GBR                                          174.9"
            ]
          },
          "metadata": {
            "tags": []
          },
          "execution_count": 134
        }
      ]
    },
    {
      "cell_type": "code",
      "metadata": {
        "colab": {
          "base_uri": "https://localhost:8080/",
          "height": 233
        },
        "id": "6AJcCtTJR-cL",
        "outputId": "8ec935a8-703f-482c-b9a0-28800fbf8ab7"
      },
      "source": [
        "data.drop([\"Entity\", 'Code'], axis=1, inplace=True) \n",
        "# axis specifies row drop or column drop\n",
        "# axis=0 means row drop\n",
        "# axis=1 means column drop\n",
        "# inplace determines whether the modification is done to the original data frame\n",
        "# inplace=True means modifying the original data frame\n",
        "# inplace=False means create a new data frame for the modification\n",
        "data.head()"
      ],
      "execution_count": null,
      "outputs": [
        {
          "output_type": "execute_result",
          "data": {
            "text/html": [
              "<div>\n",
              "<style scoped>\n",
              "    .dataframe tbody tr th:only-of-type {\n",
              "        vertical-align: middle;\n",
              "    }\n",
              "\n",
              "    .dataframe tbody tr th {\n",
              "        vertical-align: top;\n",
              "    }\n",
              "\n",
              "    .dataframe thead th {\n",
              "        text-align: right;\n",
              "    }\n",
              "</style>\n",
              "<table border=\"1\" class=\"dataframe\">\n",
              "  <thead>\n",
              "    <tr style=\"text-align: right;\">\n",
              "      <th></th>\n",
              "      <th>Human Height (University of Tuebingen (2015))</th>\n",
              "    </tr>\n",
              "    <tr>\n",
              "      <th>Year</th>\n",
              "      <th></th>\n",
              "    </tr>\n",
              "  </thead>\n",
              "  <tbody>\n",
              "    <tr>\n",
              "      <th>1900</th>\n",
              "      <td>169.4</td>\n",
              "    </tr>\n",
              "    <tr>\n",
              "      <th>1910</th>\n",
              "      <td>170.9</td>\n",
              "    </tr>\n",
              "    <tr>\n",
              "      <th>1920</th>\n",
              "      <td>171.0</td>\n",
              "    </tr>\n",
              "    <tr>\n",
              "      <th>1930</th>\n",
              "      <td>173.9</td>\n",
              "    </tr>\n",
              "    <tr>\n",
              "      <th>1940</th>\n",
              "      <td>174.9</td>\n",
              "    </tr>\n",
              "  </tbody>\n",
              "</table>\n",
              "</div>"
            ],
            "text/plain": [
              "      Human Height (University of Tuebingen (2015))\n",
              "Year                                               \n",
              "1900                                          169.4\n",
              "1910                                          170.9\n",
              "1920                                          171.0\n",
              "1930                                          173.9\n",
              "1940                                          174.9"
            ]
          },
          "metadata": {
            "tags": []
          },
          "execution_count": 135
        }
      ]
    },
    {
      "cell_type": "code",
      "metadata": {
        "colab": {
          "base_uri": "https://localhost:8080/",
          "height": 355
        },
        "id": "YlCLo8t8SS2T",
        "outputId": "3a4c2740-5ea3-4c13-c85e-6c0d94cced37"
      },
      "source": [
        "data = data.rename(columns={'Human Height (University of Tuebingen (2015))': \"Height(cm)\"})\n",
        "data"
      ],
      "execution_count": null,
      "outputs": [
        {
          "output_type": "execute_result",
          "data": {
            "text/html": [
              "<div>\n",
              "<style scoped>\n",
              "    .dataframe tbody tr th:only-of-type {\n",
              "        vertical-align: middle;\n",
              "    }\n",
              "\n",
              "    .dataframe tbody tr th {\n",
              "        vertical-align: top;\n",
              "    }\n",
              "\n",
              "    .dataframe thead th {\n",
              "        text-align: right;\n",
              "    }\n",
              "</style>\n",
              "<table border=\"1\" class=\"dataframe\">\n",
              "  <thead>\n",
              "    <tr style=\"text-align: right;\">\n",
              "      <th></th>\n",
              "      <th>Height(cm)</th>\n",
              "    </tr>\n",
              "    <tr>\n",
              "      <th>Year</th>\n",
              "      <th></th>\n",
              "    </tr>\n",
              "  </thead>\n",
              "  <tbody>\n",
              "    <tr>\n",
              "      <th>1900</th>\n",
              "      <td>169.4</td>\n",
              "    </tr>\n",
              "    <tr>\n",
              "      <th>1910</th>\n",
              "      <td>170.9</td>\n",
              "    </tr>\n",
              "    <tr>\n",
              "      <th>1920</th>\n",
              "      <td>171.0</td>\n",
              "    </tr>\n",
              "    <tr>\n",
              "      <th>1930</th>\n",
              "      <td>173.9</td>\n",
              "    </tr>\n",
              "    <tr>\n",
              "      <th>1940</th>\n",
              "      <td>174.9</td>\n",
              "    </tr>\n",
              "    <tr>\n",
              "      <th>1950</th>\n",
              "      <td>176.0</td>\n",
              "    </tr>\n",
              "    <tr>\n",
              "      <th>1960</th>\n",
              "      <td>176.9</td>\n",
              "    </tr>\n",
              "    <tr>\n",
              "      <th>1970</th>\n",
              "      <td>177.1</td>\n",
              "    </tr>\n",
              "    <tr>\n",
              "      <th>1980</th>\n",
              "      <td>176.8</td>\n",
              "    </tr>\n",
              "  </tbody>\n",
              "</table>\n",
              "</div>"
            ],
            "text/plain": [
              "      Height(cm)\n",
              "Year            \n",
              "1900       169.4\n",
              "1910       170.9\n",
              "1920       171.0\n",
              "1930       173.9\n",
              "1940       174.9\n",
              "1950       176.0\n",
              "1960       176.9\n",
              "1970       177.1\n",
              "1980       176.8"
            ]
          },
          "metadata": {
            "tags": []
          },
          "execution_count": 136
        }
      ]
    },
    {
      "cell_type": "code",
      "metadata": {
        "colab": {
          "base_uri": "https://localhost:8080/",
          "height": 283
        },
        "id": "v9hb-cGuSb29",
        "outputId": "7ff2d9fa-59b8-4e34-88e4-6e913a6fc591"
      },
      "source": [
        "heights = data['Height(cm)']\n",
        "years = data.index\n",
        "plt.plot(years, heights, 'g.-')"
      ],
      "execution_count": null,
      "outputs": [
        {
          "output_type": "execute_result",
          "data": {
            "text/plain": [
              "[<matplotlib.lines.Line2D at 0x7fc5038f1208>]"
            ]
          },
          "metadata": {
            "tags": []
          },
          "execution_count": 137
        },
        {
          "output_type": "display_data",
          "data": {
            "image/png": "[encoded data removed]",
            "text/plain": [
              "<Figure size 432x288 with 1 Axes>"
            ]
          },
          "metadata": {
            "tags": [],
            "needs_background": "light"
          }
        }
      ]
    },
    {
      "cell_type": "markdown",
      "metadata": {
        "id": "3vrLh6rg58ZT"
      },
      "source": [
        "How would you describe the trend?\n",
        "\n",
        "Is there a trend?\n",
        "Answer: There is an linear upward trend.\n",
        "\n",
        "Is the trend upward or downward?\n",
        "Answer: upward\n",
        "\n",
        "It the trend consistent?\n",
        "Answer: pretty consistent\n",
        "\n",
        "Conclusion: During the 20th century, United Kingdom men's height increases at a steady rate."
      ]
    },
    {
      "cell_type": "code",
      "metadata": {
        "colab": {
          "base_uri": "https://localhost:8080/"
        },
        "id": "XPoWfjAXSyP_",
        "outputId": "eacc26f9-9fed-49b8-da82-d3ca7a6b05be"
      },
      "source": [
        "# Linear model ( height=m⋅year+b )\n",
        "#Compute Slope m\n",
        "m = (176.8 - 169.4)/(1980 - 1900)\n",
        "print(\"Slope m = \", m)"
      ],
      "execution_count": null,
      "outputs": [
        {
          "output_type": "stream",
          "text": [
            "Slope m =  0.09250000000000007\n"
          ],
          "name": "stdout"
        }
      ]
    },
    {
      "cell_type": "code",
      "metadata": {
        "colab": {
          "base_uri": "https://localhost:8080/"
        },
        "id": "yVJmZQrnT15e",
        "outputId": "a92ea341-7e61-4be1-f833-596e90e075c9"
      },
      "source": [
        "# Let the slope be the average rate of increase.\n",
        "# If the model is height = m * year + b, \n",
        "# find the value of b so that point (1900, 169.4) lies on the line.\n",
        "m =  0.09250000000000007\n",
        "height = 169.4\n",
        "year = 1900\n",
        "b = height - m * year\n",
        "print(\"Y-Intercept:\", b)"
      ],
      "execution_count": null,
      "outputs": [
        {
          "output_type": "stream",
          "text": [
            "Y-Intercept: -6.350000000000136\n"
          ],
          "name": "stdout"
        }
      ]
    },
    {
      "cell_type": "code",
      "metadata": {
        "colab": {
          "base_uri": "https://localhost:8080/"
        },
        "id": "SRfmsTZwUJf8",
        "outputId": "43cd7bfa-9882-445e-ed71-0a0fcd11b7d8"
      },
      "source": [
        "print(\"Now our linear model is: height = {} * year + {}\".format(m, b))"
      ],
      "execution_count": null,
      "outputs": [
        {
          "output_type": "stream",
          "text": [
            "Now our linear model is: height = 0.09250000000000007 * year + -6.350000000000136\n"
          ],
          "name": "stdout"
        }
      ]
    },
    {
      "cell_type": "code",
      "metadata": {
        "colab": {
          "base_uri": "https://localhost:8080/",
          "height": 283
        },
        "id": "glFM63m9UyTX",
        "outputId": "d23b52e8-265d-44e6-afd6-167c508b696f"
      },
      "source": [
        "# Plot the model line.\n",
        "years = np.array([1900, 1940, 1980])\n",
        "heights = 0.09250000000000007 * years + -6.350000000000136\n",
        "plt.plot(years, heights,'r-')\n",
        "# show the data points on this plot\n",
        "plt.plot(data.index, data['Height(cm)'], 'g.')"
      ],
      "execution_count": null,
      "outputs": [
        {
          "output_type": "execute_result",
          "data": {
            "text/plain": [
              "[<matplotlib.lines.Line2D at 0x7fc5038b4080>]"
            ]
          },
          "metadata": {
            "tags": []
          },
          "execution_count": 145
        },
        {
          "output_type": "display_data",
          "data": {
            "image/png": "[encoded data removed]",
            "text/plain": [
              "<Figure size 432x288 with 1 Axes>"
            ]
          },
          "metadata": {
            "tags": [],
            "needs_background": "light"
          }
        }
      ]
    },
    {
      "cell_type": "markdown",
      "metadata": {
        "id": "fjhYKSzv2-Se"
      },
      "source": [
        "Can you find another line that fits the model better?\n"
      ]
    },
    {
      "cell_type": "code",
      "metadata": {
        "colab": {
          "base_uri": "https://localhost:8080/",
          "height": 283
        },
        "id": "v1UoztrLaEcM",
        "outputId": "b4297638-3e80-41c4-8de5-db874c6c5b25"
      },
      "source": [
        "m2 = 0.093\n",
        "b2 = -6.2\n",
        "\n",
        "plt.plot(years, heights, 'r-')\n",
        "plt.plot(data.index, data['Height(cm)'], 'g.')\n",
        "\n",
        "# plot the second line on this graph\n",
        "heights2 = m2 * years + b2 \n",
        "plt.plot(years, heights2, 'b-')"
      ],
      "execution_count": null,
      "outputs": [
        {
          "output_type": "execute_result",
          "data": {
            "text/plain": [
              "[<matplotlib.lines.Line2D at 0x7fc50384eb00>]"
            ]
          },
          "metadata": {
            "tags": []
          },
          "execution_count": 146
        },
        {
          "output_type": "display_data",
          "data": {
            "image/png": "[encoded data removed]",
            "text/plain": [
              "<Figure size 432x288 with 1 Axes>"
            ]
          },
          "metadata": {
            "tags": [],
            "needs_background": "light"
          }
        }
      ]
    },
    {
      "cell_type": "code",
      "metadata": {
        "colab": {
          "base_uri": "https://localhost:8080/"
        },
        "id": "NeNob4PGbz7m",
        "outputId": "3cbcab04-c888-462e-9023-d54f0fef9aa7"
      },
      "source": [
        "\n",
        "# Calculate errors for each year\n",
        "\n",
        "# all the years are contained in data.index \n",
        "m =  0.09250000000000007\n",
        "b = -6.350000000000136\n",
        "errors = []\n",
        "\n",
        "for year in data.index:\n",
        "    # Calculate the squared error for that year\n",
        "    x = year\n",
        "    y = data.loc[x, 'Height(cm)']\n",
        "    prediction = m * x + b\n",
        "    error = (prediction - y) ** 2\n",
        "\n",
        "    # append the error to the errors list\n",
        "    errors.append(error)\n",
        "\n",
        "# Now you should have a list of errors.\n",
        "print(errors)"
      ],
      "execution_count": null,
      "outputs": [
        {
          "output_type": "stream",
          "text": [
            "[0.0, 0.3306250000000196, 0.0625, 2.9756250000000786, 3.240000000000041, 3.9006249999999776, 3.8025000000000664, 1.500624999999986, 0.0]\n"
          ],
          "name": "stdout"
        }
      ]
    },
    {
      "cell_type": "code",
      "metadata": {
        "colab": {
          "base_uri": "https://localhost:8080/"
        },
        "id": "rR9Tmaagcuwr",
        "outputId": "9e7d5a78-c5ec-46bd-c166-9778d4b65d05"
      },
      "source": [
        "# Calculate the mean squared error, use np.mean() function\n",
        "print(\"mean squared error (MSE) : \", np.mean(errors))"
      ],
      "execution_count": null,
      "outputs": [
        {
          "output_type": "stream",
          "text": [
            "mean squared error (MSE) :  1.7569444444444633\n"
          ],
          "name": "stdout"
        }
      ]
    },
    {
      "cell_type": "markdown",
      "metadata": {
        "id": "sYv3oS0aBiKr"
      },
      "source": [
        "# New Section"
      ]
    }
  ]
}