{
  "nbformat": 4,
  "nbformat_minor": 0,
  "metadata": {
    "colab": {
      "name": "Mathias_Adikpon_CMP414_HW1",
      "provenance": [],
      "collapsed_sections": [],
      "authorship_tag": "ABX9TyN1WhQXTEQI4VND6uba2CMI",
      "include_colab_link": true
    },
    "kernelspec": {
      "name": "python3",
      "display_name": "Python 3"
    }
  },
  "cells": [
    {
      "cell_type": "markdown",
      "metadata": {
        "id": "view-in-github",
        "colab_type": "text"
      },
      "source": [
        "<a href=\"https://colab.research.google.com/github/mathiasadikpon/AI/blob/main/Mathias_Adikpon_CMP414_HW1.ipynb\" target=\"_parent\"><img src=\"https://colab.research.google.com/assets/colab-badge.svg\" alt=\"Open In Colab\"/></a>"
      ]
    },
    {
      "cell_type": "markdown",
      "metadata": {
        "id": "YM1xnVs-KQ4U"
      },
      "source": [
        "Write a Python program to convert the percent of the increase of men's height over each decade.\n",
        "\n",
        "Moreover, determine on during which 10 years has men's height increased the fastest.\n"
      ]
    },
    {
      "cell_type": "code",
      "metadata": {
        "colab": {
          "base_uri": "https://localhost:8080/"
        },
        "id": "YKaQyRCJA8tW",
        "outputId": "c15caf1d-930b-43ca-bc3c-1565283ec879"
      },
      "source": [
        "# Create dictionary\n",
        "dicts = {1900:170, 1910:172.1, 1920:173.1, 1930:173.4, 1940:176.1, 1950:177.1, 1960:177.3,1970:178.3, 1980:179}\n",
        "dict2 = dict()\n",
        "height_max = 0\n",
        "for year1 in range(1900, 1980, 10):\n",
        "  height1 = dicts[year1]\n",
        "  year2 = year1 + 10\n",
        "  height2 = dicts[year2]\n",
        "  \n",
        "  average_height = round(100*(height2 - height1)/height1,3) # Compute the average height during year1-year2 and rounded into three decimal places.\n",
        "  print(\"During {} - {}, the average height has increased {}%\\n\".format(year1,year2,average_height))\n",
        "  \n",
        "  period = \"{} - {}\".format(year1, year2)\n",
        "  dict2[period] = average_height # Fill the dictionary with period and their respect average height\n",
        "\n",
        "  if height_max < average_height:# find the highest average height\n",
        "    height_max = average_height\n",
        "\n",
        "print(\"During 10 years in which has men's height increased the fastest, we have\", end =\" \")\n",
        "for period in dict2.keys():\n",
        "  if dict2[period]== height_max: # Find all 10 years period which has the highest average height\n",
        "    print(period, end =', ')\n",
        "print(\"with average height {}%\".format(height_max))"
      ],
      "execution_count": null,
      "outputs": [
        {
          "output_type": "stream",
          "text": [
            "During 1900 - 1910, the average height has increased 1.235%\n",
            "\n",
            "During 1910 - 1920, the average height has increased 0.581%\n",
            "\n",
            "During 1920 - 1930, the average height has increased 0.173%\n",
            "\n",
            "During 1930 - 1940, the average height has increased 1.557%\n",
            "\n",
            "During 1940 - 1950, the average height has increased 0.568%\n",
            "\n",
            "During 1950 - 1960, the average height has increased 0.113%\n",
            "\n",
            "During 1960 - 1970, the average height has increased 0.564%\n",
            "\n",
            "During 1970 - 1980, the average height has increased 0.393%\n",
            "\n",
            "During 10 years in which has men's height increased the fastest, we have 1930 - 1940, with average height 1.557%\n"
          ],
          "name": "stdout"
        }
      ]
    }
  ]
}