{
  "nbformat": 4,
  "nbformat_minor": 0,
  "metadata": {
    "colab": {
      "name": "Week13_Homework_FashionMNIST_Mathias_Adikpon",
      "provenance": [],
      "collapsed_sections": [],
      "include_colab_link": true
    },
    "kernelspec": {
      "name": "python3",
      "display_name": "Python 3"
    },
    "language_info": {
      "name": "python"
    }
  },
  "cells": [
    {
      "cell_type": "markdown",
      "metadata": {
        "id": "view-in-github",
        "colab_type": "text"
      },
      "source": [
        "<a href=\"https://colab.research.google.com/github/mathiasadikpon/AI/blob/main/Week13_Homework_FashionMNIST_Mathias_Adikpon.ipynb\" target=\"_parent\"><img src=\"https://colab.research.google.com/assets/colab-badge.svg\" alt=\"Open In Colab\"/></a>"
      ]
    },
    {
      "cell_type": "markdown",
      "metadata": {
        "id": "wWOqbZO9V36N"
      },
      "source": [
        "# Homework: FashionMNIST\n",
        "\n",
        "For this homework assignment, you are asked to build a neural network classifier on the FasionMNIST dataset. The FashionMNIST dataset has a lot in common with the MNIST dataset:\n",
        "- The dataset contains 70,000 grayscale images, split into training set (60,000 images) and test set (10,000 images).\n",
        "- The resolution of images is 28 by 28 pixels.\n",
        "- There are a total of 10 target labels.\n",
        "\n",
        "<img src=\"https://tensorflow.org/images/fashion-mnist-sprite.png\" width=\"600\">"
      ]
    },
    {
      "cell_type": "code",
      "metadata": {
        "id": "ryKQmAcpV7Yh",
        "colab": {
          "base_uri": "https://localhost:8080/"
        },
        "outputId": "b99cf40e-07b9-4923-fd60-f9a04fdb843b"
      },
      "source": [
        "import numpy as np\n",
        "import tensorflow as tf\n",
        "print(\"Version: \", tf.__version__)"
      ],
      "execution_count": null,
      "outputs": [
        {
          "output_type": "stream",
          "text": [
            "Version:  2.4.1\n"
          ],
          "name": "stdout"
        }
      ]
    },
    {
      "cell_type": "code",
      "metadata": {
        "id": "z2YkOEyRV7ax",
        "colab": {
          "base_uri": "https://localhost:8080/"
        },
        "outputId": "ffc8897d-f10c-4572-b46f-42d9e9da3d71"
      },
      "source": [
        "# Import the dataset\n",
        "fashion_mnist = tf.keras.datasets.fashion_mnist\n",
        "\n",
        "(train_images, train_labels), (test_images, test_labels) = fashion_mnist.load_data()"
      ],
      "execution_count": null,
      "outputs": [
        {
          "output_type": "stream",
          "text": [
            "Downloading data from https://storage.googleapis.com/tensorflow/tf-keras-datasets/train-labels-idx1-ubyte.gz\n",
            "32768/29515 [=================================] - 0s 0us/step\n",
            "Downloading data from https://storage.googleapis.com/tensorflow/tf-keras-datasets/train-images-idx3-ubyte.gz\n",
            "26427392/26421880 [==============================] - 0s 0us/step\n",
            "Downloading data from https://storage.googleapis.com/tensorflow/tf-keras-datasets/t10k-labels-idx1-ubyte.gz\n",
            "8192/5148 [===============================================] - 0s 0us/step\n",
            "Downloading data from https://storage.googleapis.com/tensorflow/tf-keras-datasets/t10k-images-idx3-ubyte.gz\n",
            "4423680/4422102 [==============================] - 0s 0us/step\n"
          ],
          "name": "stdout"
        }
      ]
    },
    {
      "cell_type": "code",
      "metadata": {
        "id": "CSm_u-O6V7dh"
      },
      "source": [
        "# Here are the list of class names\n",
        "class_names = ['T-shirt/top', 'Trouser', 'Pullover', 'Dress', 'Coat',\n",
        "               'Sandal', 'Shirt', 'Sneaker', 'Bag', 'Ankle boot']"
      ],
      "execution_count": null,
      "outputs": []
    },
    {
      "cell_type": "markdown",
      "metadata": {
        "id": "1oO38lwbV7f9"
      },
      "source": [
        "Please complete the following tasks:\n",
        "1. Scale the values to [0, 1] by dividing every value by 255.0.\n",
        "2. Use `plt.imshow()` to display the first image from the training set.\n",
        "3. Build a neural network with three layers:\n",
        "    - The first layer is a flatten layer of size 28 * 28.\n",
        "    - The second layer is a dense layer with 128 nodes, with ReLU as activation function.\n",
        "    - The last layer is a dense layer with 10 nodes without activation.\n",
        "4. Compile the model, using `adam` as optimizer and `tf.keras.losses.SparseCategoricalCrossentropy(from_logits=True)` as loss function. Use `accuracy` as performance metrics.\n",
        "5. Train the model using `train_images` and `train_labels` for 10 epochs.\n",
        "6. Evaluate the accuracy on the test set.\n",
        "7. Compute the confusion matrix over test set. Which type of prediction mistake occurs most frequently?"
      ]
    },
    {
      "cell_type": "code",
      "metadata": {
        "id": "NGAfn9ZKV7io",
        "colab": {
          "base_uri": "https://localhost:8080/"
        },
        "outputId": "471b6ef1-3f24-4ffc-d5fa-6ad4e939a8ca"
      },
      "source": [
        "# 1. Scale the values to [0, 1] by dividing every value by 255.0.\n",
        "# Convert the data from integers to floating-point numbers\n",
        "train_images, test_images = train_images/255.0, test_images/255.0\n",
        "\n",
        "print(train_images.shape, test_images.shape)"
      ],
      "execution_count": null,
      "outputs": [
        {
          "output_type": "stream",
          "text": [
            "(60000, 28, 28) (10000, 28, 28)\n"
          ],
          "name": "stdout"
        }
      ]
    },
    {
      "cell_type": "code",
      "metadata": {
        "colab": {
          "base_uri": "https://localhost:8080/",
          "height": 283
        },
        "id": "ejR_1TwlAHqd",
        "outputId": "3e3f70d2-a6b6-4867-dcfc-76ff11ed7772"
      },
      "source": [
        "# 2. Use plt.imshow() to display the first image from the training set.\n",
        "import matplotlib.pyplot as plt\n",
        "idx = 0\n",
        "img = train_images[idx, :, :] # : means that we include all indices\n",
        "plt.imshow(img, cmap=plt.cm.binary)"
      ],
      "execution_count": null,
      "outputs": [
        {
          "output_type": "execute_result",
          "data": {
            "text/plain": [
              "<matplotlib.image.AxesImage at 0x7f09d385d2d0>"
            ]
          },
          "metadata": {
            "tags": []
          },
          "execution_count": 9
        },
        {
          "output_type": "display_data",
          "data": {
            "image/png": "[encoded data removed]",
            "text/plain": [
              "<Figure size 432x288 with 1 Axes>"
            ]
          },
          "metadata": {
            "tags": [],
            "needs_background": "light"
          }
        }
      ]
    },
    {
      "cell_type": "code",
      "metadata": {
        "id": "PtMEEKdlCDN6"
      },
      "source": [
        "# 3. Build a neural network with three layers:\n",
        "\n",
        "# The first layer is a flatten layer of size 28 * 28.\n",
        "# The second layer is a dense layer with 128 nodes, with ReLU as activation function.\n",
        "# The last layer is a dense layer with 10 nodes without activation.\n",
        "\n",
        "import tensorflow.keras as K # A common abbrevation of the kera package.\n",
        "# Build a neural network model by stacking layers.\n",
        "\n",
        "model = tf.keras.models.Sequential([\n",
        "    tf.keras.layers.Flatten(input_shape=(28, 28)), # convert a 28*28 matrix into a 784 1D array\n",
        "    tf.keras.layers.Dense(128, activation='relu'),\n",
        "    # tf.keras.layers.Dense(128, activation='relu'),\n",
        "    tf.keras.layers.Dense(10)                                   \n",
        "])\n"
      ],
      "execution_count": null,
      "outputs": []
    },
    {
      "cell_type": "code",
      "metadata": {
        "colab": {
          "base_uri": "https://localhost:8080/"
        },
        "id": "qfMDyPB9DDF3",
        "outputId": "d7dcfb5a-8c04-4a1c-a915-d3ccef675cbe"
      },
      "source": [
        "model.summary()"
      ],
      "execution_count": null,
      "outputs": [
        {
          "output_type": "stream",
          "text": [
            "Model: \"sequential_1\"\n",
            "_________________________________________________________________\n",
            "Layer (type)                 Output Shape              Param #   \n",
            "=================================================================\n",
            "flatten_1 (Flatten)          (None, 784)               0         \n",
            "_________________________________________________________________\n",
            "dense_2 (Dense)              (None, 128)               100480    \n",
            "_________________________________________________________________\n",
            "dense_3 (Dense)              (None, 10)                1290      \n",
            "=================================================================\n",
            "Total params: 101,770\n",
            "Trainable params: 101,770\n",
            "Non-trainable params: 0\n",
            "_________________________________________________________________\n"
          ],
          "name": "stdout"
        }
      ]
    },
    {
      "cell_type": "code",
      "metadata": {
        "id": "zJgw24oIDN4S"
      },
      "source": [
        "# 4. Compile the model, using adam as optimizer and \n",
        "# tf.keras.losses.SparseCategoricalCrossentropy(from_logits=True) as loss \n",
        "#function. Use accuracy as performance metrics.\n",
        "loss_fn = tf.keras.losses.SparseCategoricalCrossentropy(from_logits=True)\n",
        "# loss_fn(train_images[index:(index+1)], predictions).numpy()\n",
        "\n",
        "model.compile(optimizer='adam',\n",
        "              loss=loss_fn,\n",
        "              metrics=['accuracy'])\n"
      ],
      "execution_count": null,
      "outputs": []
    },
    {
      "cell_type": "code",
      "metadata": {
        "colab": {
          "base_uri": "https://localhost:8080/"
        },
        "id": "QF-w07RuGq5u",
        "outputId": "fb97bcdd-b79c-4467-a1ac-4e8161c2cb93"
      },
      "source": [
        "# 5. Train the model using train_images and train_labels for 10 epochs.\n",
        "\n",
        "# The Model.fit method adjusts the model parameters to minimize the loss\n",
        "model.fit(train_images, train_labels, epochs=10)"
      ],
      "execution_count": null,
      "outputs": [
        {
          "output_type": "stream",
          "text": [
            "Epoch 1/10\n",
            "1875/1875 [==============================] - 4s 2ms/step - loss: 0.6342 - accuracy: 0.7767\n",
            "Epoch 2/10\n",
            "1875/1875 [==============================] - 4s 2ms/step - loss: 0.3861 - accuracy: 0.8627\n",
            "Epoch 3/10\n",
            "1875/1875 [==============================] - 4s 2ms/step - loss: 0.3411 - accuracy: 0.8754\n",
            "Epoch 4/10\n",
            "1875/1875 [==============================] - 4s 2ms/step - loss: 0.3170 - accuracy: 0.8811\n",
            "Epoch 5/10\n",
            "1875/1875 [==============================] - 4s 2ms/step - loss: 0.2927 - accuracy: 0.8910\n",
            "Epoch 6/10\n",
            "1875/1875 [==============================] - 3s 2ms/step - loss: 0.2791 - accuracy: 0.8959\n",
            "Epoch 7/10\n",
            "1875/1875 [==============================] - 4s 2ms/step - loss: 0.2734 - accuracy: 0.8977\n",
            "Epoch 8/10\n",
            "1875/1875 [==============================] - 4s 2ms/step - loss: 0.2585 - accuracy: 0.9022\n",
            "Epoch 9/10\n",
            "1875/1875 [==============================] - 4s 2ms/step - loss: 0.2496 - accuracy: 0.9067\n",
            "Epoch 10/10\n",
            "1875/1875 [==============================] - 4s 2ms/step - loss: 0.2365 - accuracy: 0.9111\n"
          ],
          "name": "stdout"
        },
        {
          "output_type": "execute_result",
          "data": {
            "text/plain": [
              "<tensorflow.python.keras.callbacks.History at 0x7f09d4460990>"
            ]
          },
          "metadata": {
            "tags": []
          },
          "execution_count": 16
        }
      ]
    },
    {
      "cell_type": "code",
      "metadata": {
        "colab": {
          "base_uri": "https://localhost:8080/"
        },
        "id": "TlNcDO7rHRUH",
        "outputId": "43d5d4ed-c547-461f-e4d6-268d4c2cbdd1"
      },
      "source": [
        "# 6. Evaluate the accuracy on the test set.\n",
        "\n",
        "l_accur = model.evaluate(test_images, test_labels)\n"
      ],
      "execution_count": null,
      "outputs": [
        {
          "output_type": "stream",
          "text": [
            "313/313 [==============================] - 0s 1ms/step - loss: 0.3469 - accuracy: 0.8788\n"
          ],
          "name": "stdout"
        }
      ]
    },
    {
      "cell_type": "code",
      "metadata": {
        "colab": {
          "base_uri": "https://localhost:8080/"
        },
        "id": "lMVF84whJ5Dg",
        "outputId": "b1083418-0354-4fa5-f2f8-15611ac4a4b4"
      },
      "source": [
        "accuracy = l_accur[1]\n",
        "print(\"Accuracy score on the test set is :\", round(accuracy,3))"
      ],
      "execution_count": null,
      "outputs": [
        {
          "output_type": "stream",
          "text": [
            "Accuracy score on the test set is : 0.879\n"
          ],
          "name": "stdout"
        }
      ]
    },
    {
      "cell_type": "code",
      "metadata": {
        "colab": {
          "base_uri": "https://localhost:8080/"
        },
        "id": "1aq-vBJwLXqo",
        "outputId": "a4fc817c-243f-47b9-f2df-24e9aee05f51"
      },
      "source": [
        "# 7. Compute the confusion matrix over test set.\n",
        "\n",
        "# Show the confusion matrix\n",
        "from sklearn.metrics import confusion_matrix\n",
        "\n",
        "y_test_pred = []\n",
        "raw_predictions = model(test_images).numpy()\n",
        "for row_idx in range(raw_predictions.shape[0]):\n",
        "    logits = raw_predictions[row_idx, :]\n",
        "    probs = tf.nn.softmax(logits).numpy()\n",
        "    class_pred = np.argmax(probs)\n",
        "    y_test_pred.append(class_pred)\n",
        "print(y_test_pred)"
      ],
      "execution_count": null,
      "outputs": [
        {
          "output_type": "stream",
          "text": [
            "[9, 2, 1, 1, 6, 1, 4, 6, 5, 7, 4, 5, 7, 3, 4, 1, 2, 2, 8, 0, 2, 5, 7, 5, 1, 2, 6, 6, 9, 4, 8, 8, 3, 3, 8, 0, 7, 5, 7, 9, 6, 1, 6, 7, 6, 7, 2, 1, 2, 6, 4, 2, 5, 8, 2, 2, 8, 6, 8, 0, 7, 7, 8, 5, 1, 1, 6, 4, 7, 8, 7, 0, 2, 6, 2, 3, 1, 2, 8, 4, 1, 8, 5, 9, 5, 0, 3, 2, 0, 2, 5, 1, 6, 7, 1, 8, 0, 1, 2, 2, 3, 6, 7, 2, 7, 8, 5, 7, 9, 4, 2, 5, 7, 0, 5, 2, 8, 6, 7, 8, 0, 0, 9, 9, 3, 0, 8, 2, 1, 5, 4, 1, 9, 1, 8, 6, 6, 1, 2, 5, 1, 6, 0, 0, 1, 6, 1, 3, 2, 2, 3, 4, 1, 3, 5, 0, 4, 7, 9, 3, 7, 2, 3, 5, 0, 9, 4, 7, 4, 2, 6, 5, 6, 1, 2, 1, 3, 0, 9, 1, 0, 9, 3, 6, 7, 9, 9, 4, 4, 7, 1, 2, 3, 6, 3, 2, 8, 3, 6, 1, 1, 0, 2, 9, 2, 6, 0, 7, 9, 8, 4, 1, 8, 4, 1, 3, 1, 6, 7, 2, 8, 5, 3, 0, 7, 7, 6, 6, 7, 0, 7, 8, 9, 2, 9, 0, 5, 1, 4, 2, 5, 4, 9, 2, 2, 4, 6, 4, 2, 4, 9, 7, 6, 5, 5, 4, 8, 5, 2, 3, 0, 4, 8, 0, 0, 6, 4, 8, 7, 6, 1, 6, 0, 2, 3, 0, 8, 3, 7, 4, 0, 1, 6, 4, 0, 6, 0, 7, 5, 4, 5, 9, 5, 6, 5, 5, 1, 9, 8, 8, 3, 3, 6, 8, 0, 0, 2, 9, 7, 7, 1, 3, 6, 4, 2, 4, 7, 1, 6, 4, 8, 2, 6, 5, 6, 2, 7, 7, 7, 3, 3, 7, 6, 7, 1, 3, 7, 2, 2, 3, 4, 0, 3, 1, 0, 1, 9, 4, 9, 9, 1, 7, 8, 3, 6, 0, 2, 4, 8, 0, 1, 6, 2, 4, 4, 7, 3, 2, 2, 5, 0, 7, 9, 4, 6, 9, 3, 9, 3, 2, 5, 6, 0, 3, 5, 8, 1, 6, 2, 6, 6, 4, 9, 5, 2, 0, 6, 6, 1, 2, 0, 9, 7, 0, 4, 4, 2, 6, 2, 1, 6, 6, 7, 2, 9, 4, 2, 1, 5, 4, 5, 3, 8, 5, 8, 4, 4, 8, 9, 8, 6, 2, 4, 4, 2, 4, 1, 6, 1, 3, 0, 7, 8, 8, 4, 5, 3, 1, 9, 5, 3, 3, 0, 1, 2, 2, 9, 4, 0, 6, 0, 4, 2, 0, 0, 3, 3, 8, 2, 8, 9, 4, 0, 7, 0, 4, 6, 9, 2, 9, 5, 9, 3, 7, 5, 7, 8, 1, 0, 0, 6, 6, 8, 9, 7, 9, 1, 2, 7, 0, 2, 0, 5, 7, 1, 8, 2, 2, 2, 2, 4, 2, 2, 1, 9, 8, 5, 1, 9, 1, 2, 8, 3, 8, 9, 2, 4, 2, 8, 0, 2, 0, 5, 8, 8, 5, 3, 9, 4, 3, 4, 4, 5, 1, 0, 1, 2, 0, 6, 9, 6, 1, 5, 1, 1, 1, 9, 3, 4, 5, 3, 6, 2, 0, 4, 0, 0, 5, 8, 2, 3, 4, 0, 7, 7, 8, 9, 6, 6, 8, 7, 6, 7, 9, 0, 4, 6, 6, 5, 0, 1, 1, 5, 9, 4, 2, 5, 7, 8, 1, 2, 9, 7, 7, 1, 0, 9, 0, 2, 9, 0, 7, 6, 8, 2, 7, 0, 2, 3, 8, 2, 2, 6, 7, 3, 0, 7, 8, 6, 2, 9, 4, 4, 6, 6, 0, 0, 6, 4, 2, 7, 5, 8, 4, 9, 1, 0, 5, 4, 4, 4, 0, 0, 4, 5, 6, 0, 4, 5, 4, 1, 1, 1, 3, 6, 4, 3, 8, 2, 0, 6, 5, 0, 4, 0, 8, 5, 0, 8, 2, 9, 0, 8, 9, 6, 4, 2, 9, 6, 2, 5, 0, 9, 5, 3, 6, 6, 6, 3, 3, 8, 3, 4, 0, 9, 7, 9, 4, 8, 9, 1, 3, 7, 3, 0, 2, 6, 7, 1, 0, 0, 8, 7, 2, 6, 4, 6, 4, 1, 5, 9, 0, 0, 1, 6, 5, 0, 0, 3, 3, 3, 8, 1, 1, 8, 5, 7, 7, 8, 7, 2, 0, 7, 0, 8, 0, 9, 7, 6, 1, 6, 2, 4, 8, 0, 6, 3, 6, 8, 4, 0, 8, 9, 2, 4, 5, 9, 1, 4, 4, 9, 2, 1, 7, 9, 5, 8, 3, 7, 7, 1, 1, 1, 6, 9, 5, 3, 8, 4, 2, 9, 2, 8, 3, 2, 4, 4, 7, 1, 4, 9, 3, 5, 8, 5, 4, 7, 2, 8, 5, 9, 3, 3, 6, 7, 1, 7, 0, 5, 4, 6, 5, 8, 3, 7, 1, 2, 6, 1, 9, 8, 2, 7, 1, 3, 7, 5, 9, 9, 1, 8, 4, 5, 7, 1, 9, 8, 1, 0, 0, 2, 1, 7, 1, 1, 5, 7, 1, 5, 2, 2, 3, 3, 1, 1, 4, 9, 2, 3, 7, 7, 6, 8, 9, 9, 6, 1, 3, 4, 0, 0, 5, 9, 2, 0, 5, 5, 1, 5, 7, 8, 7, 7, 3, 6, 6, 0, 6, 6, 2, 0, 2, 5, 5, 1, 2, 0, 9, 3, 7, 5, 6, 8, 3, 4, 7, 6, 7, 4, 8, 0, 3, 4, 4, 3, 6, 9, 6, 2, 4, 9, 1, 8, 1, 7, 5, 5, 6, 6, 2, 1, 0, 5, 4, 0, 0, 6, 7, 5, 0, 3, 5, 9, 6, 8, 2, 6, 4, 6, 2, 9, 6, 7, 7, 1, 4, 2, 0, 5, 0, 9, 9, 8, 8, 3, 6, 2, 4, 6, 6, 3, 2, 3, 5, 2, 9, 3, 2, 7, 7, 6, 3, 5, 5, 2, 4, 5, 9, 6, 3, 7, 5, 1, 9, 8, 8, 9, 9, 2, 7, 2, 2, 3, 8, 7, 6, 4, 5, 4, 3, 6, 1, 4, 9, 3, 1, 6, 5, 0, 5, 7, 5, 2, 3, 3, 9, 6, 3, 6, 0, 4, 5, 0, 4, 7, 6, 0, 3, 6, 7, 0, 2, 1, 1, 4, 6, 6, 5, 9, 0, 1, 6, 5, 1, 4, 4, 8, 4, 7, 5, 3, 8, 1, 1, 9, 8, 1, 3, 3, 7, 5, 1, 5, 7, 8, 9, 6, 3, 5, 8, 4, 6, 3, 8, 6, 5, 5, 6, 7, 1, 5, 3, 5, 4, 8, 6, 2, 1, 1, 7, 9, 2, 2, 7, 6, 4, 8, 2, 2, 6, 6, 4, 4, 9, 6, 8, 4, 5, 9, 6, 3, 9, 4, 9, 8, 7, 4, 2, 2, 5, 3, 7, 0, 7, 2, 9, 3, 7, 6, 9, 3, 8, 4, 4, 7, 2, 4, 6, 2, 0, 7, 8, 4, 2, 6, 5, 5, 6, 4, 5, 5, 8, 1, 1, 7, 4, 6, 9, 6, 8, 7, 2, 2, 1, 2, 7, 7, 6, 9, 8, 5, 1, 1, 0, 2, 0, 9, 0, 1, 9, 0, 5, 5, 2, 0, 7, 0, 2, 6, 1, 3, 1, 3, 6, 7, 2, 4, 9, 5, 2, 9, 6, 3, 4, 4, 0, 6, 5, 2, 2, 5, 6, 1, 4, 2, 5, 4, 4, 8, 0, 2, 4, 0, 6, 6, 6, 8, 3, 8, 2, 0, 4, 4, 8, 8, 4, 5, 2, 2, 3, 0, 1, 9, 0, 9, 1, 9, 6, 5, 2, 4, 7, 3, 8, 5, 6, 8, 0, 7, 5, 5, 9, 5, 0, 6, 0, 3, 2, 4, 4, 5, 7, 1, 3, 4, 6, 6, 5, 1, 6, 7, 3, 4, 8, 8, 4, 8, 9, 4, 1, 6, 5, 4, 7, 8, 5, 6, 8, 5, 2, 2, 8, 9, 8, 4, 4, 6, 8, 8, 6, 0, 9, 4, 2, 8, 1, 3, 6, 1, 9, 2, 1, 6, 2, 7, 9, 4, 6, 0, 4, 4, 2, 4, 5, 6, 2, 8, 3, 7, 6, 4, 0, 0, 5, 4, 8, 2, 4, 3, 0, 2, 1, 7, 7, 5, 4, 7, 2, 2, 7, 3, 3, 1, 3, 3, 6, 6, 1, 7, 6, 4, 7, 1, 0, 6, 5, 8, 4, 6, 7, 9, 5, 0, 7, 9, 5, 1, 2, 9, 5, 5, 3, 9, 7, 1, 6, 7, 8, 0, 1, 7, 4, 7, 1, 1, 5, 5, 6, 4, 5, 9, 5, 5, 2, 3, 9, 3, 8, 5, 4, 0, 0, 0, 5, 7, 4, 5, 2, 6, 4, 4, 7, 2, 0, 5, 1, 7, 2, 3, 6, 8, 7, 8, 7, 1, 2, 3, 2, 9, 7, 5, 6, 1, 0, 7, 1, 2, 6, 9, 3, 6, 4, 4, 3, 0, 6, 2, 3, 6, 1, 3, 5, 6, 5, 3, 9, 1, 1, 8, 0, 9, 5, 0, 5, 4, 6, 7, 1, 1, 5, 3, 8, 7, 8, 3, 8, 9, 2, 6, 1, 1, 3, 5, 6, 7, 1, 9, 9, 2, 4, 7, 0, 1, 3, 9, 6, 3, 7, 2, 8, 1, 8, 0, 7, 9, 8, 5, 8, 2, 6, 4, 0, 6, 5, 8, 3, 8, 7, 5, 7, 3, 7, 6, 7, 0, 2, 2, 5, 3, 5, 1, 1, 7, 7, 6, 3, 6, 4, 2, 8, 6, 3, 1, 4, 9, 9, 4, 5, 2, 2, 7, 8, 0, 7, 9, 1, 2, 9, 4, 7, 3, 4, 3, 3, 1, 8, 8, 5, 3, 8, 0, 3, 4, 3, 6, 0, 2, 7, 3, 6, 8, 3, 7, 7, 3, 1, 7, 5, 8, 8, 6, 0, 6, 4, 4, 6, 5, 7, 0, 6, 0, 7, 7, 3, 9, 2, 5, 9, 7, 3, 7, 2, 2, 5, 1, 4, 5, 4, 5, 0, 4, 4, 1, 4, 4, 8, 4, 5, 9, 4, 1, 1, 7, 2, 3, 5, 6, 3, 9, 7, 5, 3, 8, 8, 8, 7, 1, 1, 6, 3, 1, 6, 3, 4, 9, 9, 6, 0, 6, 9, 4, 9, 0, 6, 1, 8, 9, 2, 9, 4, 8, 0, 7, 2, 3, 6, 2, 5, 6, 1, 9, 6, 4, 2, 9, 7, 0, 8, 3, 0, 6, 6, 0, 4, 2, 6, 6, 5, 0, 2, 7, 8, 7, 4, 6, 6, 6, 5, 2, 4, 2, 9, 5, 2, 6, 7, 0, 1, 9, 5, 5, 0, 7, 7, 5, 0, 5, 0, 8, 4, 7, 9, 8, 2, 4, 7, 3, 0, 7, 7, 7, 8, 2, 9, 5, 7, 6, 5, 7, 5, 1, 3, 0, 4, 9, 9, 8, 3, 7, 0, 4, 4, 9, 3, 3, 1, 7, 9, 1, 5, 7, 2, 7, 6, 5, 7, 3, 7, 5, 5, 4, 0, 7, 1, 3, 2, 6, 2, 9, 9, 0, 3, 0, 8, 3, 8, 0, 4, 6, 1, 8, 2, 4, 5, 0, 2, 2, 3, 0, 0, 1, 6, 8, 4, 9, 0, 7, 6, 7, 7, 1, 5, 8, 7, 2, 9, 9, 1, 2, 4, 1, 1, 1, 8, 8, 1, 3, 7, 5, 2, 0, 8, 4, 8, 9, 4, 1, 3, 1, 9, 8, 1, 1, 1, 8, 6, 9, 9, 7, 6, 0, 4, 2, 1, 1, 7, 9, 2, 2, 0, 3, 6, 4, 8, 1, 7, 2, 4, 2, 2, 4, 8, 7, 1, 8, 5, 5, 7, 7, 6, 6, 2, 7, 0, 6, 3, 5, 5, 0, 2, 1, 0, 3, 7, 7, 3, 7, 4, 5, 7, 9, 8, 9, 1, 4, 8, 3, 2, 6, 6, 0, 8, 3, 8, 6, 8, 6, 0, 8, 8, 3, 2, 9, 3, 2, 0, 8, 5, 7, 0, 3, 1, 1, 9, 5, 1, 3, 3, 6, 0, 8, 4, 1, 3, 8, 8, 0, 7, 5, 0, 6, 7, 3, 3, 2, 4, 2, 5, 5, 6, 4, 0, 9, 1, 1, 7, 3, 8, 7, 2, 2, 9, 3, 9, 9, 0, 1, 7, 1, 4, 8, 1, 2, 9, 3, 4, 0, 0, 7, 6, 9, 9, 5, 7, 7, 0, 9, 3, 3, 6, 9, 8, 4, 2, 6, 3, 9, 4, 3, 6, 7, 4, 0, 4, 8, 1, 8, 7, 4, 4, 5, 4, 2, 9, 1, 7, 4, 9, 1, 6, 2, 8, 8, 7, 7, 7, 7, 2, 6, 0, 7, 5, 8, 5, 6, 0, 6, 4, 9, 2, 4, 1, 1, 9, 3, 1, 2, 2, 2, 3, 7, 5, 7, 4, 4, 4, 1, 2, 3, 5, 4, 2, 9, 1, 5, 9, 3, 6, 2, 4, 0, 1, 7, 7, 6, 6, 7, 7, 6, 0, 4, 3, 2, 7, 8, 7, 2, 8, 0, 8, 7, 4, 4, 2, 7, 0, 9, 9, 3, 1, 5, 9, 3, 1, 0, 3, 3, 5, 9, 7, 9, 8, 0, 5, 9, 3, 7, 9, 3, 6, 6, 6, 5, 7, 7, 2, 3, 5, 3, 1, 1, 7, 4, 3, 9, 5, 5, 7, 2, 4, 9, 0, 2, 1, 9, 7, 1, 5, 0, 5, 5, 0, 3, 5, 0, 3, 3, 7, 4, 2, 6, 8, 5, 9, 2, 1, 6, 5, 5, 8, 5, 3, 7, 4, 4, 6, 9, 6, 0, 0, 9, 1, 4, 3, 1, 5, 3, 8, 5, 1, 1, 2, 9, 4, 0, 5, 2, 8, 0, 2, 9, 8, 4, 4, 8, 3, 8, 0, 4, 2, 6, 4, 8, 5, 4, 9, 0, 7, 5, 8, 6, 9, 1, 4, 7, 2, 1, 6, 6, 0, 6, 5, 2, 4, 8, 5, 5, 2, 0, 3, 8, 2, 3, 1, 9, 2, 7, 7, 2, 6, 4, 8, 3, 4, 8, 5, 2, 8, 3, 3, 1, 4, 4, 0, 4, 9, 0, 4, 1, 9, 9, 8, 1, 4, 8, 3, 3, 3, 8, 5, 9, 2, 6, 8, 7, 0, 3, 0, 0, 4, 5, 7, 5, 0, 7, 9, 1, 6, 4, 8, 9, 3, 5, 2, 0, 4, 6, 7, 8, 9, 1, 8, 2, 5, 5, 3, 1, 1, 8, 8, 3, 0, 7, 0, 1, 8, 5, 0, 4, 9, 8, 9, 8, 8, 6, 9, 1, 8, 4, 2, 7, 7, 0, 5, 1, 1, 0, 6, 4, 3, 0, 2, 3, 5, 1, 2, 3, 3, 4, 4, 5, 0, 9, 8, 3, 4, 1, 0, 6, 1, 4, 4, 4, 8, 4, 9, 0, 5, 9, 5, 0, 6, 0, 5, 0, 3, 9, 8, 3, 6, 1, 9, 6, 1, 0, 4, 5, 4, 1, 2, 8, 5, 9, 4, 5, 3, 4, 8, 3, 0, 6, 8, 9, 0, 5, 6, 2, 2, 7, 3, 2, 2, 8, 5, 9, 2, 3, 1, 6, 3, 2, 2, 7, 4, 1, 2, 6, 4, 0, 2, 8, 5, 0, 8, 5, 2, 7, 8, 1, 5, 9, 8, 0, 9, 0, 9, 3, 7, 5, 7, 9, 6, 0, 7, 1, 5, 5, 9, 5, 4, 4, 2, 4, 5, 9, 7, 4, 2, 6, 9, 9, 4, 2, 1, 3, 7, 1, 8, 7, 7, 1, 8, 9, 3, 7, 7, 7, 1, 7, 4, 4, 2, 2, 4, 5, 2, 8, 9, 6, 8, 0, 0, 7, 7, 5, 0, 1, 9, 6, 6, 4, 5, 6, 6, 6, 7, 1, 0, 5, 8, 7, 2, 8, 6, 3, 6, 1, 7, 4, 8, 7, 4, 1, 7, 8, 2, 4, 2, 4, 4, 1, 8, 6, 7, 2, 9, 6, 5, 0, 3, 3, 8, 8, 2, 0, 7, 2, 4, 0, 4, 1, 6, 8, 1, 7, 7, 2, 6, 3, 1, 2, 7, 2, 0, 0, 6, 2, 7, 2, 6, 3, 2, 3, 0, 9, 7, 3, 5, 4, 9, 2, 2, 5, 0, 0, 8, 4, 0, 4, 4, 0, 6, 1, 6, 6, 2, 7, 1, 0, 6, 4, 1, 1, 5, 6, 6, 8, 3, 4, 1, 7, 4, 9, 8, 8, 4, 5, 5, 6, 7, 3, 9, 1, 0, 5, 3, 7, 2, 1, 1, 8, 2, 2, 0, 5, 9, 6, 3, 8, 1, 0, 4, 2, 6, 2, 8, 3, 4, 2, 1, 9, 1, 7, 9, 5, 7, 6, 1, 5, 8, 8, 2, 6, 4, 6, 3, 1, 2, 4, 0, 3, 9, 8, 4, 0, 8, 4, 3, 9, 7, 1, 1, 5, 5, 1, 9, 2, 4, 2, 4, 8, 6, 7, 1, 3, 0, 7, 3, 5, 8, 1, 4, 2, 3, 4, 8, 8, 8, 4, 8, 1, 8, 9, 3, 0, 6, 0, 2, 9, 7, 3, 7, 0, 1, 3, 5, 9, 0, 0, 5, 0, 5, 8, 7, 3, 6, 2, 8, 0, 0, 9, 3, 0, 5, 8, 1, 1, 2, 0, 0, 0, 8, 4, 2, 3, 3, 9, 5, 4, 3, 3, 1, 8, 1, 5, 2, 0, 0, 7, 9, 0, 2, 7, 1, 7, 6, 1, 6, 2, 2, 6, 7, 0, 4, 9, 3, 2, 5, 0, 8, 6, 2, 2, 7, 4, 2, 1, 1, 0, 3, 5, 5, 2, 6, 2, 1, 8, 5, 4, 4, 3, 4, 2, 7, 2, 4, 9, 6, 2, 6, 6, 4, 5, 4, 9, 8, 1, 6, 4, 6, 4, 9, 4, 3, 5, 1, 4, 6, 0, 1, 1, 0, 2, 6, 9, 7, 0, 1, 2, 4, 6, 7, 4, 1, 1, 7, 7, 8, 7, 6, 5, 3, 7, 2, 0, 9, 6, 1, 6, 2, 2, 5, 8, 5, 2, 9, 8, 4, 0, 9, 0, 8, 1, 6, 8, 2, 8, 2, 0, 2, 3, 8, 7, 8, 2, 2, 0, 6, 0, 4, 5, 4, 4, 1, 1, 9, 7, 0, 6, 2, 1, 4, 2, 7, 5, 1, 8, 3, 0, 7, 9, 8, 7, 2, 7, 9, 7, 2, 2, 6, 6, 3, 3, 9, 1, 1, 4, 8, 0, 9, 7, 5, 4, 8, 8, 3, 6, 3, 0, 8, 6, 2, 5, 9, 2, 3, 8, 3, 2, 8, 3, 0, 1, 1, 3, 0, 1, 8, 2, 1, 5, 8, 1, 5, 8, 0, 7, 7, 7, 5, 9, 5, 5, 3, 0, 7, 8, 4, 5, 1, 0, 2, 6, 2, 3, 7, 7, 7, 7, 2, 5, 8, 5, 8, 5, 3, 0, 9, 7, 2, 0, 6, 8, 4, 0, 7, 4, 7, 6, 5, 4, 7, 0, 0, 4, 0, 2, 7, 8, 1, 3, 8, 1, 7, 3, 6, 1, 1, 6, 6, 9, 8, 2, 8, 2, 7, 7, 1, 3, 0, 3, 0, 7, 8, 7, 6, 5, 2, 6, 7, 5, 5, 8, 9, 7, 3, 2, 4, 8, 3, 9, 5, 7, 6, 2, 2, 7, 3, 8, 5, 1, 8, 9, 2, 2, 1, 6, 2, 7, 4, 0, 4, 4, 8, 9, 7, 9, 2, 2, 8, 2, 6, 0, 6, 3, 4, 1, 5, 2, 7, 5, 0, 7, 6, 2, 3, 5, 1, 1, 0, 7, 3, 8, 8, 7, 5, 9, 9, 5, 5, 3, 0, 7, 1, 4, 6, 0, 9, 7, 6, 0, 8, 0, 5, 7, 8, 0, 2, 7, 6, 6, 4, 8, 1, 0, 4, 8, 0, 7, 5, 8, 7, 7, 5, 5, 0, 7, 6, 0, 2, 0, 3, 4, 2, 0, 2, 9, 4, 5, 4, 4, 1, 2, 5, 7, 0, 5, 0, 2, 5, 0, 4, 2, 6, 6, 7, 6, 7, 2, 3, 2, 7, 1, 4, 4, 4, 2, 4, 3, 9, 9, 6, 8, 0, 4, 0, 0, 1, 9, 3, 9, 6, 8, 6, 9, 4, 7, 9, 1, 5, 8, 1, 0, 0, 2, 4, 8, 6, 3, 3, 0, 0, 6, 3, 3, 1, 6, 8, 4, 7, 3, 0, 0, 5, 8, 8, 8, 6, 1, 0, 8, 7, 8, 5, 8, 7, 0, 7, 2, 7, 1, 5, 5, 8, 3, 4, 8, 5, 9, 9, 4, 0, 6, 7, 1, 8, 8, 8, 7, 2, 0, 9, 7, 7, 6, 9, 2, 1, 4, 7, 2, 5, 2, 4, 2, 9, 6, 7, 1, 9, 7, 2, 5, 3, 8, 4, 9, 3, 9, 5, 7, 5, 1, 3, 3, 6, 6, 7, 5, 3, 5, 5, 8, 7, 7, 4, 6, 5, 5, 3, 4, 8, 3, 0, 7, 2, 3, 2, 2, 7, 4, 0, 7, 1, 4, 8, 1, 4, 7, 8, 2, 0, 7, 4, 6, 2, 2, 3, 2, 3, 0, 5, 2, 3, 2, 8, 5, 0, 7, 4, 6, 4, 8, 3, 5, 1, 3, 9, 1, 2, 9, 6, 7, 4, 0, 0, 2, 5, 6, 3, 5, 2, 5, 1, 7, 9, 4, 6, 7, 4, 0, 2, 8, 1, 0, 9, 9, 7, 8, 2, 6, 9, 7, 7, 5, 8, 8, 7, 5, 0, 5, 5, 6, 8, 9, 7, 2, 1, 4, 7, 1, 3, 6, 3, 4, 2, 9, 4, 7, 7, 6, 5, 0, 8, 8, 2, 8, 5, 6, 0, 7, 3, 0, 0, 4, 5, 2, 0, 7, 7, 7, 1, 5, 2, 1, 8, 5, 2, 2, 8, 7, 7, 6, 7, 1, 6, 9, 5, 0, 9, 3, 5, 0, 7, 4, 6, 0, 1, 6, 5, 9, 3, 2, 8, 5, 7, 3, 1, 4, 6, 8, 1, 8, 5, 6, 9, 3, 3, 8, 4, 4, 2, 0, 6, 4, 2, 3, 4, 5, 9, 1, 1, 9, 4, 7, 0, 4, 1, 0, 0, 7, 7, 0, 7, 8, 0, 5, 6, 4, 4, 8, 9, 7, 2, 9, 5, 3, 7, 2, 4, 1, 9, 7, 8, 1, 3, 9, 3, 4, 7, 8, 6, 5, 4, 7, 9, 9, 7, 0, 4, 2, 3, 4, 0, 7, 5, 3, 9, 2, 8, 8, 6, 0, 4, 1, 9, 3, 3, 5, 3, 7, 5, 9, 2, 8, 5, 5, 9, 5, 4, 0, 7, 3, 5, 4, 2, 6, 9, 4, 8, 1, 9, 2, 6, 6, 4, 8, 8, 7, 7, 4, 9, 3, 9, 6, 8, 2, 6, 9, 0, 4, 2, 5, 5, 0, 4, 6, 4, 1, 3, 1, 0, 7, 8, 8, 7, 7, 0, 5, 7, 3, 6, 0, 4, 0, 3, 6, 8, 8, 8, 0, 2, 3, 2, 8, 2, 1, 2, 1, 1, 6, 3, 2, 2, 4, 0, 0, 4, 1, 3, 2, 7, 0, 6, 7, 9, 9, 2, 7, 6, 9, 9, 8, 4, 8, 3, 4, 0, 9, 6, 2, 4, 3, 8, 3, 6, 6, 7, 6, 4, 7, 3, 7, 8, 8, 2, 4, 8, 8, 0, 1, 5, 8, 9, 8, 7, 1, 6, 3, 0, 3, 0, 9, 3, 9, 9, 1, 5, 9, 4, 1, 7, 6, 1, 0, 5, 3, 8, 8, 4, 1, 7, 0, 5, 0, 4, 1, 7, 1, 7, 9, 4, 3, 9, 2, 2, 5, 3, 5, 8, 8, 4, 4, 7, 7, 4, 6, 0, 5, 5, 1, 6, 2, 5, 6, 8, 5, 6, 9, 1, 3, 1, 4, 5, 9, 0, 7, 0, 3, 5, 6, 1, 5, 8, 5, 6, 6, 9, 1, 7, 1, 7, 1, 8, 0, 3, 4, 0, 2, 0, 3, 3, 8, 8, 0, 3, 6, 8, 1, 1, 3, 3, 2, 2, 1, 8, 3, 4, 2, 2, 4, 2, 3, 9, 2, 3, 6, 4, 5, 7, 1, 6, 1, 2, 0, 3, 8, 5, 1, 6, 5, 4, 8, 1, 7, 1, 6, 4, 9, 4, 2, 1, 5, 3, 1, 5, 8, 7, 7, 7, 2, 7, 5, 4, 4, 2, 0, 4, 4, 9, 9, 5, 8, 0, 4, 4, 1, 3, 7, 9, 0, 0, 9, 8, 5, 3, 0, 7, 1, 9, 5, 8, 2, 0, 9, 9, 1, 2, 0, 0, 2, 2, 5, 1, 0, 2, 8, 3, 4, 8, 3, 4, 0, 0, 3, 6, 7, 4, 4, 1, 7, 3, 0, 7, 9, 9, 1, 5, 5, 9, 1, 4, 6, 1, 2, 8, 4, 5, 5, 8, 0, 6, 2, 7, 2, 7, 5, 6, 8, 7, 8, 6, 4, 9, 2, 5, 5, 9, 9, 4, 4, 2, 6, 6, 6, 8, 7, 6, 6, 7, 5, 2, 9, 0, 3, 4, 4, 8, 4, 0, 4, 7, 0, 5, 2, 6, 4, 8, 0, 0, 2, 0, 2, 5, 5, 8, 0, 7, 0, 8, 9, 0, 2, 1, 4, 5, 1, 0, 2, 9, 6, 4, 5, 9, 1, 4, 3, 1, 2, 8, 6, 3, 3, 6, 2, 6, 2, 3, 4, 5, 2, 3, 2, 6, 4, 5, 4, 0, 1, 0, 2, 2, 6, 7, 9, 6, 2, 4, 3, 6, 8, 5, 4, 6, 0, 3, 3, 5, 2, 5, 1, 5, 5, 1, 7, 5, 2, 1, 8, 8, 0, 9, 0, 0, 0, 3, 2, 1, 8, 3, 4, 2, 1, 2, 0, 3, 0, 8, 5, 1, 5, 0, 2, 6, 3, 9, 8, 2, 8, 1, 0, 2, 6, 2, 0, 3, 7, 5, 0, 6, 2, 0, 8, 2, 2, 1, 8, 6, 8, 2, 9, 2, 6, 8, 5, 2, 7, 3, 2, 2, 6, 0, 6, 8, 5, 2, 1, 5, 2, 8, 2, 9, 0, 6, 3, 6, 4, 2, 7, 7, 9, 0, 2, 9, 8, 0, 5, 8, 7, 7, 0, 7, 7, 0, 7, 7, 2, 9, 7, 4, 2, 2, 3, 8, 0, 1, 9, 8, 0, 1, 6, 8, 3, 8, 0, 7, 6, 4, 3, 8, 1, 3, 8, 7, 3, 0, 3, 4, 8, 8, 9, 1, 3, 2, 1, 4, 8, 0, 4, 2, 7, 3, 9, 4, 9, 0, 4, 6, 5, 7, 0, 8, 1, 7, 5, 4, 9, 5, 7, 3, 2, 0, 9, 8, 7, 0, 7, 7, 4, 7, 5, 8, 5, 2, 4, 6, 2, 3, 8, 9, 7, 1, 3, 4, 2, 9, 7, 1, 2, 2, 6, 6, 5, 5, 4, 5, 2, 8, 7, 4, 9, 9, 1, 4, 8, 1, 5, 5, 5, 6, 8, 1, 5, 5, 7, 7, 9, 8, 3, 1, 1, 2, 6, 6, 9, 3, 2, 6, 4, 8, 2, 5, 4, 9, 0, 2, 8, 4, 8, 6, 3, 6, 1, 4, 3, 3, 8, 4, 9, 9, 0, 7, 9, 5, 3, 1, 7, 2, 8, 6, 9, 6, 1, 6, 0, 5, 8, 1, 9, 3, 6, 8, 3, 8, 4, 2, 5, 6, 9, 0, 1, 2, 0, 7, 9, 0, 1, 3, 9, 5, 1, 4, 1, 1, 4, 8, 3, 9, 5, 4, 4, 3, 7, 7, 7, 2, 3, 9, 1, 9, 2, 6, 0, 7, 6, 8, 7, 7, 6, 3, 4, 9, 0, 4, 0, 2, 7, 9, 6, 1, 1, 2, 0, 8, 8, 7, 6, 2, 7, 5, 7, 6, 1, 8, 1, 4, 9, 8, 9, 6, 1, 0, 0, 0, 3, 0, 6, 4, 1, 9, 7, 1, 2, 2, 5, 3, 6, 1, 7, 6, 7, 0, 2, 8, 5, 1, 4, 9, 7, 6, 3, 4, 9, 3, 9, 8, 5, 3, 8, 4, 7, 1, 4, 1, 7, 6, 8, 3, 2, 4, 8, 1, 1, 5, 8, 2, 1, 6, 2, 5, 0, 9, 5, 3, 5, 6, 6, 5, 6, 8, 3, 8, 0, 2, 9, 9, 1, 5, 3, 2, 6, 5, 3, 0, 3, 0, 7, 4, 0, 4, 1, 9, 5, 1, 7, 5, 5, 5, 9, 4, 8, 2, 6, 6, 4, 6, 2, 1, 1, 4, 4, 8, 4, 9, 0, 5, 8, 1, 3, 8, 3, 2, 4, 8, 6, 0, 9, 3, 6, 9, 7, 2, 6, 2, 6, 8, 9, 6, 3, 4, 7, 7, 9, 7, 3, 6, 9, 6, 7, 3, 0, 2, 0, 9, 4, 3, 3, 1, 9, 5, 8, 2, 3, 5, 0, 0, 4, 5, 6, 3, 5, 6, 7, 7, 6, 0, 9, 5, 1, 4, 4, 5, 3, 0, 6, 1, 4, 0, 5, 4, 8, 5, 7, 3, 0, 8, 3, 5, 4, 4, 9, 8, 9, 9, 0, 1, 7, 5, 0, 1, 5, 4, 3, 3, 3, 4, 4, 3, 6, 7, 8, 0, 9, 6, 3, 0, 4, 2, 7, 3, 5, 7, 3, 7, 8, 6, 6, 6, 2, 3, 1, 0, 7, 5, 2, 6, 4, 1, 1, 4, 7, 2, 3, 5, 5, 0, 4, 4, 4, 8, 9, 9, 2, 0, 9, 8, 3, 5, 3, 1, 2, 5, 0, 1, 8, 5, 8, 4, 0, 7, 8, 9, 2, 4, 6, 3, 2, 2, 6, 7, 9, 1, 9, 7, 4, 5, 6, 3, 2, 4, 5, 6, 0, 5, 8, 6, 4, 2, 9, 4, 7, 8, 3, 0, 2, 7, 7, 5, 9, 5, 7, 3, 8, 7, 5, 9, 7, 8, 2, 1, 0, 8, 0, 2, 2, 7, 9, 2, 4, 5, 2, 3, 2, 1, 1, 9, 0, 5, 5, 4, 9, 8, 9, 6, 5, 4, 6, 0, 5, 7, 8, 4, 8, 8, 7, 4, 9, 4, 9, 6, 9, 7, 3, 9, 9, 3, 6, 6, 2, 8, 7, 9, 3, 0, 6, 4, 1, 0, 3, 8, 4, 8, 4, 4, 2, 3, 5, 7, 7, 8, 5, 6, 3, 2, 1, 8, 3, 8, 5, 4, 2, 3, 0, 8, 3, 3, 4, 9, 0, 9, 7, 0, 1, 8, 3, 0, 3, 8, 6, 8, 5, 1, 3, 0, 1, 9, 3, 5, 0, 6, 2, 6, 1, 5, 3, 2, 8, 5, 7, 8, 0, 1, 1, 0, 6, 2, 5, 9, 6, 7, 2, 3, 6, 4, 6, 3, 3, 9, 4, 7, 0, 8, 3, 5, 6, 4, 0, 1, 3, 9, 4, 2, 5, 6, 5, 3, 2, 5, 6, 0, 0, 0, 6, 9, 1, 3, 3, 2, 5, 5, 6, 6, 1, 4, 9, 7, 2, 4, 7, 5, 7, 1, 4, 8, 7, 9, 5, 7, 0, 2, 9, 2, 5, 0, 7, 8, 2, 5, 2, 7, 4, 3, 2, 5, 9, 2, 5, 7, 7, 3, 8, 4, 9, 6, 5, 3, 6, 7, 6, 9, 5, 1, 3, 6, 9, 3, 6, 4, 5, 3, 4, 7, 9, 1, 2, 2, 2, 4, 6, 8, 7, 9, 9, 4, 8, 8, 9, 0, 7, 6, 4, 6, 8, 4, 4, 2, 0, 1, 2, 6, 2, 1, 5, 6, 6, 6, 0, 3, 4, 5, 6, 8, 7, 6, 6, 3, 1, 8, 4, 8, 9, 9, 5, 5, 8, 2, 5, 4, 4, 2, 5, 4, 9, 2, 7, 1, 6, 2, 4, 6, 9, 8, 6, 4, 9, 1, 9, 4, 7, 3, 5, 4, 3, 4, 2, 1, 0, 2, 4, 3, 7, 8, 4, 5, 5, 9, 0, 4, 3, 4, 5, 5, 5, 7, 6, 1, 3, 3, 7, 0, 7, 7, 6, 8, 3, 5, 5, 8, 1, 9, 4, 0, 4, 2, 1, 6, 0, 1, 2, 5, 0, 8, 1, 1, 7, 5, 2, 5, 9, 0, 8, 1, 4, 4, 4, 7, 0, 7, 3, 3, 2, 1, 7, 1, 6, 2, 3, 4, 0, 0, 6, 4, 8, 7, 0, 3, 0, 4, 7, 3, 6, 6, 0, 2, 4, 4, 1, 8, 1, 9, 1, 2, 2, 4, 6, 5, 3, 3, 5, 3, 5, 8, 3, 9, 7, 3, 0, 6, 1, 6, 1, 0, 7, 7, 4, 8, 9, 6, 1, 5, 4, 9, 4, 7, 9, 9, 9, 6, 1, 0, 9, 9, 5, 1, 7, 2, 9, 3, 5, 6, 8, 1, 7, 3, 3, 8, 4, 7, 0, 8, 9, 8, 8, 4, 5, 6, 4, 5, 9, 0, 0, 5, 3, 7, 7, 4, 4, 7, 4, 5, 8, 3, 7, 2, 7, 3, 8, 8, 8, 7, 8, 6, 0, 5, 7, 9, 8, 5, 6, 0, 6, 2, 6, 6, 8, 9, 9, 1, 9, 5, 8, 4, 4, 4, 4, 8, 7, 2, 8, 3, 0, 7, 8, 8, 4, 9, 9, 5, 9, 2, 6, 9, 7, 5, 7, 4, 7, 9, 2, 3, 9, 5, 3, 5, 3, 1, 2, 9, 1, 2, 8, 5, 1, 7, 9, 6, 3, 3, 6, 9, 6, 2, 6, 0, 0, 2, 9, 7, 1, 9, 8, 5, 6, 8, 5, 9, 5, 2, 4, 2, 5, 2, 2, 5, 4, 2, 7, 1, 0, 0, 4, 4, 5, 6, 4, 6, 7, 5, 5, 1, 5, 2, 4, 4, 4, 4, 1, 9, 0, 7, 2, 7, 4, 2, 9, 7, 4, 2, 6, 1, 7, 1, 4, 7, 0, 1, 7, 3, 0, 3, 2, 2, 6, 0, 4, 1, 7, 7, 0, 2, 9, 2, 0, 7, 1, 7, 5, 2, 9, 8, 2, 4, 0, 3, 3, 2, 2, 8, 1, 0, 8, 1, 8, 1, 0, 1, 2, 7, 3, 7, 7, 3, 3, 9, 9, 0, 8, 2, 5, 8, 9, 9, 3, 5, 4, 1, 6, 9, 4, 3, 2, 6, 1, 8, 1, 4, 4, 0, 2, 1, 7, 0, 5, 6, 5, 3, 6, 2, 1, 6, 0, 7, 4, 6, 2, 3, 6, 4, 5, 2, 9, 6, 8, 0, 4, 2, 0, 1, 7, 5, 3, 3, 3, 2, 0, 3, 5, 2, 6, 2, 5, 1, 4, 2, 2, 1, 9, 3, 4, 6, 9, 5, 8, 0, 6, 3, 6, 0, 8, 1, 2, 3, 3, 1, 5, 5, 3, 2, 6, 7, 1, 3, 2, 3, 6, 1, 2, 2, 8, 6, 8, 3, 7, 0, 3, 1, 3, 8, 3, 4, 1, 2, 6, 3, 6, 7, 7, 8, 3, 2, 9, 5, 6, 6, 9, 5, 4, 3, 8, 7, 3, 8, 3, 7, 9, 0, 2, 5, 1, 0, 5, 2, 3, 9, 7, 9, 6, 0, 7, 1, 2, 0, 8, 6, 2, 2, 7, 8, 6, 2, 4, 6, 9, 7, 3, 2, 5, 4, 5, 1, 9, 5, 0, 5, 2, 4, 1, 7, 9, 3, 3, 3, 4, 9, 1, 6, 3, 9, 5, 6, 8, 2, 4, 1, 4, 0, 6, 7, 9, 0, 0, 1, 2, 3, 6, 9, 8, 1, 3, 7, 3, 9, 9, 5, 4, 2, 3, 6, 8, 8, 5, 5, 1, 8, 8, 5, 7, 9, 9, 3, 4, 4, 6, 7, 9, 6, 2, 7, 5, 4, 7, 6, 1, 4, 2, 2, 0, 9, 0, 0, 5, 1, 1, 7, 8, 3, 6, 6, 2, 0, 6, 4, 9, 5, 2, 4, 6, 4, 6, 1, 5, 2, 7, 8, 6, 7, 7, 0, 8, 4, 3, 6, 9, 1, 2, 1, 7, 4, 3, 4, 9, 9, 2, 6, 4, 3, 0, 5, 7, 5, 2, 7, 8, 9, 9, 2, 7, 8, 7, 7, 5, 8, 7, 6, 6, 9, 0, 1, 8, 7, 5, 6, 5, 3, 7, 4, 6, 5, 5, 6, 9, 9, 1, 9, 5, 9, 4, 4, 1, 5, 8, 3, 5, 1, 8, 6, 5, 0, 2, 3, 7, 1, 1, 1, 8, 7, 5, 6, 4, 2, 7, 0, 0, 5, 3, 4, 8, 6, 5, 2, 7, 3, 2, 3, 2, 7, 8, 0, 7, 6, 9, 5, 8, 6, 7, 3, 5, 0, 9, 7, 3, 0, 6, 5, 7, 8, 2, 3, 1, 9, 0, 2, 9, 1, 3, 4, 6, 4, 3, 6, 2, 4, 8, 6, 4, 9, 5, 6, 1, 8, 2, 4, 1, 6, 2, 9, 4, 3, 7, 9, 6, 3, 5, 4, 5, 9, 8, 5, 3, 0, 1, 2, 6, 6, 1, 9, 4, 4, 0, 5, 5, 4, 4, 2, 0, 1, 4, 9, 9, 7, 0, 1, 2, 0, 0, 2, 6, 2, 5, 9, 6, 8, 4, 6, 1, 5, 9, 2, 1, 4, 9, 3, 1, 7, 1, 1, 1, 9, 1, 3, 8, 9, 9, 1, 9, 6, 0, 5, 8, 5, 5, 5, 3, 8, 9, 2, 7, 8, 2, 9, 2, 0, 1, 5, 0, 7, 8, 6, 0, 9, 1, 1, 8, 2, 8, 7, 2, 0, 7, 2, 0, 0, 5, 1, 2, 8, 2, 3, 7, 2, 1, 9, 7, 4, 1, 3, 7, 2, 4, 0, 3, 7, 5, 1, 1, 9, 5, 1, 5, 4, 6, 6, 1, 5, 2, 1, 6, 2, 5, 7, 9, 4, 4, 4, 1, 7, 9, 0, 7, 7, 3, 3, 8, 4, 1, 8, 2, 7, 6, 4, 8, 9, 2, 9, 3, 2, 6, 1, 1, 6, 4, 1, 6, 7, 6, 5, 9, 1, 7, 6, 9, 4, 2, 1, 7, 2, 9, 8, 8, 9, 5, 5, 3, 8, 1, 0, 3, 6, 1, 1, 9, 0, 9, 7, 5, 3, 2, 9, 5, 5, 4, 6, 9, 9, 3, 0, 6, 4, 1, 7, 4, 9, 2, 8, 5, 8, 6, 0, 1, 3, 2, 2, 3, 6, 6, 0, 2, 8, 3, 6, 4, 6, 1, 8, 6, 5, 4, 2, 3, 9, 2, 2, 4, 2, 5, 4, 2, 7, 0, 7, 3, 3, 6, 9, 4, 8, 5, 6, 0, 3, 6, 7, 2, 5, 3, 1, 1, 9, 7, 5, 2, 2, 1, 6, 4, 5, 9, 2, 5, 5, 3, 3, 0, 9, 2, 4, 6, 3, 2, 4, 7, 2, 3, 6, 4, 2, 0, 4, 1, 3, 9, 2, 4, 2, 2, 3, 2, 3, 0, 8, 3, 5, 1, 2, 6, 8, 2, 1, 2, 1, 1, 9, 6, 5, 9, 6, 8, 0, 3, 2, 3, 8, 3, 7, 5, 6, 1, 1, 2, 0, 5, 5, 0, 1, 0, 5, 2, 8, 9, 7, 9, 1, 1, 3, 3, 5, 6, 7, 5, 9, 4, 9, 3, 6, 6, 2, 8, 5, 2, 5, 9, 8, 3, 8, 1, 3, 1, 4, 5, 2, 5, 4, 4, 9, 2, 7, 1, 4, 8, 3, 7, 7, 6, 7, 9, 4, 7, 7, 0, 1, 4, 1, 2, 8, 2, 4, 7, 6, 7, 1, 8, 7, 5, 1, 3, 1, 0, 3, 6, 5, 4, 8, 6, 3, 4, 9, 3, 1, 5, 3, 0, 7, 0, 6, 4, 5, 1, 6, 6, 2, 8, 3, 9, 8, 6, 7, 2, 4, 2, 5, 1, 9, 6, 0, 8, 7, 1, 8, 1, 2, 0, 9, 2, 4, 3, 4, 6, 1, 3, 5, 2, 9, 5, 5, 4, 7, 5, 5, 6, 4, 8, 0, 7, 0, 8, 4, 2, 1, 7, 7, 7, 3, 8, 0, 3, 0, 9, 8, 5, 6, 4, 8, 1, 5, 5, 7, 0, 1, 6, 1, 3, 2, 6, 2, 6, 1, 7, 6, 2, 2, 6, 1, 8, 2, 4, 6, 1, 0, 8, 8, 4, 4, 2, 0, 7, 0, 8, 9, 1, 4, 6, 7, 6, 8, 1, 8, 4, 4, 6, 7, 5, 7, 9, 9, 3, 9, 4, 4, 0, 6, 1, 4, 8, 4, 4, 7, 6, 2, 2, 7, 1, 8, 0, 6, 2, 2, 0, 3, 6, 6, 1, 3, 6, 3, 4, 1, 7, 8, 1, 0, 7, 6, 5, 6, 8, 2, 8, 5, 8, 7, 8, 4, 5, 9, 5, 5, 1, 2, 4, 7, 2, 9, 7, 8, 6, 7, 4, 6, 3, 8, 2, 4, 5, 1, 8, 2, 4, 2, 2, 9, 8, 9, 0, 2, 7, 9, 4, 5, 7, 8, 6, 3, 9, 5, 9, 3, 0, 8, 6, 3, 6, 3, 5, 8, 0, 0, 1, 8, 2, 9, 0, 0, 7, 6, 6, 8, 7, 4, 8, 8, 2, 0, 3, 6, 7, 1, 4, 7, 2, 6, 7, 1, 6, 5, 2, 0, 7, 9, 6, 6, 8, 2, 1, 1, 8, 8, 3, 5, 7, 5, 6, 7, 4, 3, 9, 3, 8, 9, 0, 2, 0, 4, 5, 7, 0, 2, 3, 9, 7, 7, 4, 2, 5, 8, 3, 1, 3, 7, 4, 9, 4, 3, 9, 7, 2, 0, 8, 0, 9, 1, 9, 9, 6, 7, 1, 4, 5, 0, 3, 8, 7, 4, 5, 5, 9, 3, 2, 0, 0, 9, 0, 5, 0, 1, 3, 7, 9, 1, 5, 9, 0, 0, 9, 7, 2, 9, 2, 1, 2, 7, 5, 1, 0, 7, 3, 4, 7, 6, 4, 6, 8, 5, 7, 9, 5, 7, 3, 3, 3, 7, 3, 4, 1, 5, 6, 9, 7, 4, 0, 2, 5, 8, 0, 7, 7, 3, 4, 0, 4, 8, 2, 0, 6, 9, 8, 9, 6, 5, 0, 6, 0, 2, 6, 3, 1, 8, 7, 4, 1, 9, 1, 2, 8, 5, 2, 3, 0, 0, 2, 6, 6, 7, 2, 1, 8, 2, 8, 7, 9, 2, 1, 2, 5, 7, 7, 3, 6, 5, 7, 6, 6, 7, 3, 2, 0, 7, 6, 7, 3, 9, 1, 2, 1, 9, 7, 2, 3, 3, 8, 1, 8, 3, 5, 0, 5, 3, 8, 5, 7, 6, 9, 0, 6, 8, 4, 2, 3, 3, 6, 3, 7, 8, 7, 1, 3, 7, 8, 9, 5, 5, 2, 4, 4, 5, 0, 8, 6, 6, 6, 0, 8, 8, 7, 6, 7, 1, 5, 1, 2, 1, 3, 2, 2, 2, 4, 5, 7, 5, 9, 6, 0, 5, 7, 0, 5, 6, 5, 6, 0, 4, 0, 7, 1, 5, 4, 9, 8, 1, 7, 6, 4, 6, 0, 7, 1, 8, 5, 7, 8, 5, 5, 1, 8, 5, 7, 7, 7, 6, 5, 2, 2, 1, 2, 4, 4, 1, 6, 0, 9, 1, 8, 2, 3, 7, 4, 9, 5, 7, 4, 3, 9, 5, 6, 6, 2, 7, 3, 9, 3, 0, 5, 9, 0, 9, 6, 6, 4, 5, 7, 1, 6, 5, 2, 0, 2, 3, 1, 1, 1, 7, 6, 2, 2, 5, 9, 8, 7, 9, 3, 4, 7, 9, 2, 0, 1, 1, 1, 4, 8, 0, 8, 0, 5, 5, 6, 7, 0, 8, 2, 4, 4, 2, 2, 2, 5, 7, 2, 9, 7, 2, 2, 2, 0, 7, 2, 5, 2, 3, 3, 1, 9, 8, 1, 8, 6, 6, 3, 9, 1, 9, 7, 2, 9, 2, 9, 4, 0, 2, 2, 1, 4, 6, 0, 9, 6, 1, 1, 0, 5, 6, 7, 0, 4, 1, 1, 7, 0, 0, 1, 9, 2, 7, 3, 5, 4, 1, 2, 6, 4, 0, 3, 0, 2, 3, 5, 9, 5, 8, 9, 3, 1, 7, 8, 9, 4, 1, 1, 7, 0, 7, 0, 0, 9, 6, 0, 2, 9, 3, 8, 5, 5, 9, 3, 3, 5, 7, 1, 3, 3, 3, 5, 6, 0, 4, 1, 1, 9, 1, 4, 0, 6, 2, 2, 6, 6, 0, 6, 5, 0, 3, 0, 5, 1, 1, 8, 2, 5, 3, 5, 1, 6, 6, 3, 1, 2, 7, 9, 6, 3, 8, 5, 6, 6, 9, 1, 5, 7, 7, 4, 2, 2, 7, 5, 6, 1, 5, 7, 7, 8, 2, 8, 3, 7, 4, 0, 2, 9, 9, 0, 2, 7, 3, 1, 0, 8, 2, 4, 4, 4, 7, 1, 8, 2, 0, 3, 4, 0, 6, 9, 8, 0, 0, 8, 3, 9, 2, 1, 5, 2, 5, 0, 8, 4, 2, 5, 9, 3, 0, 2, 7, 8, 5, 9, 5, 0, 0, 6, 9, 7, 2, 9, 2, 2, 2, 4, 0, 1, 4, 3, 9, 4, 0, 3, 4, 2, 6, 9, 4, 7, 2, 5, 6, 3, 4, 5, 7, 0, 2, 1, 1, 8, 7, 3, 2, 0, 5, 2, 3, 8, 8, 8, 9, 2, 6, 9, 2, 3, 3, 6, 4, 2, 8, 8, 5, 9, 2, 7, 1, 9, 0, 3, 3, 3, 2, 3, 9, 9, 5, 3, 0, 4, 2, 4, 6, 4, 5, 3, 4, 9, 8, 5, 8, 3, 4, 1, 4, 8, 9, 2, 6, 2, 3, 5, 6, 3, 5, 2, 5, 3, 9, 1, 2, 9, 8, 9, 3, 8, 8, 5, 5, 8, 4, 4, 0, 8, 3, 6, 4, 9, 6, 1, 0, 5, 1, 4, 0, 7, 2, 6, 3, 6, 7, 4, 6, 4, 3, 8, 5, 1, 8, 3, 4, 6, 5, 6, 0, 5, 8, 7, 4, 4, 2, 2, 9, 3, 5, 0, 9, 9, 0, 1, 3, 7, 1, 9, 6, 7, 2, 6, 9, 5, 7, 7, 4, 2, 8, 3, 1, 7, 8, 8, 6, 8, 0, 5, 5, 7, 1, 9, 6, 2, 1, 5, 1, 9, 6, 1, 6, 3, 2, 7, 3, 9, 3, 5, 4, 0, 6, 9, 9, 4, 2, 3, 8, 5, 8, 3, 6, 4, 1, 4, 9, 5, 8, 9, 7, 3, 6, 9, 5, 9, 1, 1, 2, 8, 4, 1, 4, 6, 9, 9, 7, 9, 7, 4, 6, 1, 9, 9, 1, 9, 6, 2, 3, 7, 3, 1, 3, 6, 8, 3, 4, 3, 3, 8, 3, 7, 1, 0, 3, 8, 4, 7, 9, 8, 0, 3, 0, 4, 5, 7, 0, 7, 2, 5, 0, 2, 6, 3, 3, 0, 0, 4, 4, 4, 4, 6, 9, 9, 0, 7, 4, 0, 2, 2, 1, 9, 5, 9, 9, 0, 5, 8, 6, 7, 3, 9, 5, 2, 8, 9, 5, 8, 0, 0, 3, 0, 6, 3, 7, 8, 0, 1, 2, 2, 6, 1, 1, 2, 2, 2, 5, 4, 3, 9, 3, 4, 6, 3, 7, 2, 9, 2, 1, 6, 7, 5, 5, 9, 2, 0, 9, 7, 9, 5, 2, 1, 8, 3, 3, 8, 0, 8, 7, 0, 7, 7, 9, 6, 4, 0, 3, 7, 6, 1, 5, 2, 0, 5, 8, 6, 7, 0, 1, 0, 5, 6, 2, 1, 4, 1, 8, 7, 7, 9, 7, 3, 6, 2, 2, 7, 6, 3, 9, 6, 3, 9, 5, 1, 6, 7, 2, 7, 4, 3, 5, 7, 2, 7, 2, 8, 7, 5, 4, 5, 9, 4, 3, 5, 0, 2, 5, 5, 3, 1, 9, 3, 7, 1, 0, 0, 4, 4, 2, 5, 7, 2, 1, 1, 7, 7, 7, 0, 1, 6, 8, 5, 2, 5, 3, 7, 8, 7, 7, 0, 8, 5, 6, 0, 5, 5, 6, 7, 7, 9, 7, 1, 0, 0, 8, 0, 4, 0, 6, 4, 5, 5, 0, 5, 3, 4, 4, 5, 0, 7, 1, 8, 7, 1, 2, 2, 0, 6, 7, 3, 7, 6, 8, 2, 3, 9, 2, 6, 3, 0, 8, 7, 3, 3, 0, 5, 6, 1, 5, 0, 9, 9, 1, 3, 0, 6, 1, 6, 6, 5, 7, 2, 4, 0, 9, 2, 6, 8, 2, 8, 6, 7, 7, 3, 3, 9, 5, 7, 0, 0, 9, 4, 5, 6, 7, 2, 9, 5, 5, 8, 7, 4, 9, 5, 6, 3, 6, 3, 6, 4, 7, 6, 4, 2, 5, 4, 1, 5, 7, 9, 7, 3, 9, 8, 8, 5, 1, 9, 6, 1, 0, 6, 8, 0, 7, 6, 9, 8, 8, 4, 3, 4, 1, 7, 7, 1, 1, 6, 7, 0, 3, 2, 8, 7, 8, 7, 7, 1, 1, 3, 8, 7, 5, 9, 1, 0, 6, 3, 4, 4, 4, 7, 1, 6, 0, 1, 5, 4, 4, 9, 2, 4, 2, 2, 0, 7, 7, 6, 7, 1, 4, 0, 8, 3, 3, 5, 2, 0, 8, 3, 0, 2, 0, 1, 8, 4, 0, 2, 7, 5, 4, 4, 5, 2, 1, 6, 4, 4, 5, 8, 6, 7, 3, 2, 6, 7, 4, 2, 3, 4, 4, 2, 6, 3, 6, 5, 1, 7, 5, 2, 5, 7, 7, 9, 9, 9, 2, 0, 9, 4, 0, 5, 5, 5, 0, 5, 6, 6, 6, 6, 6, 9, 9, 2, 4, 5, 4, 0, 1, 0, 8, 9, 5, 7, 3, 6, 6, 4, 1, 6, 8, 1, 8, 2, 0, 6, 9, 8, 5, 1, 4, 4, 0, 9, 0, 5, 8, 0, 7, 1, 6, 9, 8, 9, 9, 6, 9, 6, 3, 3, 2, 9, 0, 8, 0, 4, 0, 3, 0, 0, 0, 3, 3, 5, 9, 4, 7, 1, 5, 4, 1, 6, 1, 7, 9, 4, 6, 4, 5, 4, 9, 2, 9, 8, 8, 7, 4, 2, 3, 9, 3, 6, 7, 6, 2, 7, 0, 6, 1, 0, 5, 7, 0, 5, 9, 2, 3, 2, 8, 5, 8, 1, 9, 2, 7, 6, 7, 3, 6, 2, 5, 2, 8, 8, 8, 7, 2, 6, 5, 1, 5, 9, 6, 0, 9, 5, 8, 5, 7, 3, 9, 8, 3, 4, 6, 5, 7, 5, 1, 1, 5, 4, 1, 4, 5, 8, 4, 9, 6, 3, 3, 4, 0, 2, 4, 1, 1, 4, 7, 0, 7, 0, 2, 8, 8, 8, 6, 7, 7, 1, 2, 6, 6, 1, 6, 0, 2, 5, 8, 2, 4, 2, 3, 1, 5, 5, 4, 4, 0, 5, 4, 7, 0, 3, 4, 5, 5, 7, 5, 7, 0, 1, 1, 9, 7, 5, 0, 1, 9, 6, 3, 6, 5, 4, 0, 4, 5, 7, 2, 2, 2, 0, 5, 6, 6, 3, 7, 8, 6, 2, 2, 1, 1, 7, 5, 2, 5, 3, 6, 8, 5, 8, 8, 6, 1, 2, 3, 7, 6, 9, 0, 4, 5, 2, 3, 4, 9, 5, 5, 9, 4, 6, 4, 1, 1, 8, 9, 4, 4, 2, 3, 3, 0, 7, 1, 8, 8, 5, 0, 4, 7, 7, 1, 0, 1, 4, 1, 9, 0, 4, 1, 1, 0, 7, 3, 7, 3, 9, 0, 1, 8, 9, 0, 6, 6, 0, 9, 1, 6, 1, 2, 7, 0, 0, 5, 6, 8, 2, 5, 5, 1, 5, 9, 1, 8, 5, 3, 1, 2, 6, 0, 7, 3, 5, 4, 8, 6, 7, 1, 2, 3, 9, 8, 3, 8, 7, 7, 9, 7, 0, 9, 4, 0, 9, 6, 1, 9, 8, 6, 3, 7, 6, 9, 5, 4, 7, 1, 2, 1, 2, 3, 9, 6, 0, 5, 0, 0, 5, 5, 4, 6, 9, 9, 1, 0, 7, 7, 7, 4, 5, 1, 4, 0, 6, 3, 8, 9, 8, 4, 1, 0, 8, 3, 9, 8, 8, 7, 8, 3, 0, 0, 7, 6, 8, 6, 9, 9, 4, 7, 7, 2, 2, 1, 5, 3, 4, 3, 5, 5, 0, 8, 4, 7, 8, 9, 4, 2, 1, 7, 6, 4, 4, 7, 4, 3, 6, 0, 7, 7, 8, 0, 9, 1, 2, 6, 2, 9, 7, 1, 9, 7, 3, 3, 1, 2, 3, 5, 6, 3, 7, 4, 1, 4, 6, 2, 7, 5, 4, 6, 7, 7, 8, 1, 8, 1, 2, 2, 5, 5, 6, 1, 2, 6, 0, 1, 2, 0, 7, 6, 8, 8, 2, 8, 2, 5, 0, 0, 1, 7, 9, 7, 4, 5, 4, 0, 2, 8, 7, 1, 0, 8, 7, 8, 8, 6, 8, 2, 8, 0, 1, 5, 3, 8, 1, 7, 2, 9, 3, 7, 9, 5, 1, 8, 3, 0, 9, 3, 6, 6, 4, 2, 7, 6, 6, 9, 8, 8, 1, 5, 7, 7, 1, 7, 5, 4, 0, 0, 7, 8, 7, 3, 7, 0, 6, 5, 5, 1, 6, 7, 2, 6, 3, 2, 0, 4, 7, 8, 6, 4, 0, 1, 5, 3, 8, 3, 9, 7, 1, 7, 1, 0, 4, 8, 5, 6, 0, 6, 4, 1, 1, 2, 9, 0, 4, 2, 1, 3, 2, 7, 6, 1, 8, 5, 7, 0, 0, 5, 0, 4, 6, 2, 2, 5, 4, 1, 8, 2, 1, 5, 3, 8, 8, 9, 9, 0, 1, 8, 1, 4, 9, 6, 3, 1, 1, 4, 7, 8, 3, 6, 9, 6, 2, 8, 2, 5, 4, 9, 4, 7, 5, 0, 3, 0, 2, 5, 7, 3, 7, 4, 6, 6, 9, 3, 6, 5, 4, 1, 2, 1, 8, 1, 9, 4, 8, 9, 9, 3, 3, 7, 0, 0, 6, 1, 6, 6, 6, 4, 2, 2, 7, 0, 6, 0, 4, 0, 0, 1, 3, 6, 6, 5, 7, 9, 6, 6, 3, 7, 9, 1, 4, 7, 7, 5, 8, 0, 9, 1, 6, 1, 4, 9, 1, 6, 5, 3, 3, 0, 7, 1, 2, 7, 9, 3, 7, 6, 4, 4, 6, 7, 2, 7, 6, 1, 7, 8, 8, 7, 0, 1, 4, 0, 9, 7, 5, 9, 1, 2, 0, 4, 7, 4, 3, 3, 1, 7, 5, 7, 6, 7, 2, 0, 3, 1, 4, 7, 9, 3, 6, 7, 8, 4, 7, 4, 0, 8, 3, 0, 1, 7, 9, 6, 9, 1, 6, 6, 7, 1, 0, 6, 3, 7, 3, 1, 8, 6, 5, 7, 5, 8, 1, 0, 9, 0, 6, 4, 1, 1, 4, 7, 3, 0, 7, 5, 8, 9, 5, 4, 0, 4, 5, 4, 0, 8, 3, 8, 1, 1, 2, 4, 8, 1, 6, 8, 1, 8, 5, 3, 2, 7, 0, 2, 4, 9, 6, 2, 4, 9, 9, 6, 9, 9, 6, 7, 3, 4, 3, 3, 9, 6, 7, 7, 8, 1, 1, 0, 6, 5, 7, 9, 4, 7, 4, 7, 0, 6, 6, 9, 7, 7, 7, 5, 0, 1, 2, 3, 4, 6, 2, 0, 9, 8, 7, 8, 4, 4, 8, 9, 7, 1, 6, 7, 9, 9, 0, 1, 5, 1, 1, 3, 6, 7, 9, 8, 3, 3, 8, 5, 2, 4, 3, 6, 8, 0, 9, 0, 6, 9, 0, 1, 6, 8, 1, 4, 2, 1, 8, 1, 7, 1, 9, 1, 8, 3, 9, 4, 1, 0, 6, 6, 4, 6, 8, 2, 2, 5, 5, 0, 2, 4, 9, 8, 0, 1, 0, 0, 4, 8, 3, 4, 7, 7, 5, 9, 2, 5, 4, 6, 9, 9, 4, 8, 7, 2, 9, 1, 6, 0, 2, 8, 0, 1, 9, 2, 1, 6, 7, 1, 8, 5, 0, 4, 6, 4, 1, 1, 9, 8, 8, 9, 1, 2, 6, 0, 5, 2, 5, 6, 8, 3, 2, 1, 8, 6, 1, 5, 0, 3, 3, 1, 9, 2, 8, 7, 8, 2, 3, 6, 2, 5, 6, 9, 0, 7, 1, 1, 7, 9, 0, 1, 6, 7, 5, 4, 6, 3, 3, 2, 1, 0, 0, 9, 9, 8, 2, 9, 0, 2, 5, 4, 7, 2, 6, 5, 2, 0, 9, 3, 7, 0, 6, 3, 5, 6, 4, 3, 2, 6, 9, 8, 8, 0, 2, 0, 0, 3, 9, 2, 2, 8, 1, 9, 2, 4, 9, 0, 6, 2, 0, 6, 7, 0, 5, 0, 6, 3, 1, 3, 0, 9, 5, 4, 3, 7, 0, 2, 2, 9, 0, 7, 6, 5, 6, 8, 2, 1, 0, 3, 6, 5, 9, 3, 5, 0, 2, 0, 7, 4, 6, 8, 3, 3, 8, 0, 3, 8, 7, 4, 0, 8, 8, 4, 8, 2, 7, 7, 0, 3, 6, 8, 1, 5, 9, 2, 2, 8, 9, 4, 1, 6, 5, 5, 4, 2, 8, 2, 4, 6, 7, 4, 5, 3, 7, 4, 5, 8, 8, 3, 9, 5, 0, 6, 4, 6, 3, 6, 6, 9, 2, 5, 6, 5, 6, 3, 1, 7, 8, 6, 2, 7, 3, 3, 8, 6, 0, 9, 2, 8, 5, 4, 9, 6, 6, 4, 2, 0, 1, 1, 9, 2, 8, 2, 1, 9, 5, 8, 4, 8, 2, 3, 5, 2, 6, 4, 9, 6, 6, 2, 9, 8, 0, 5, 9, 2, 4, 5, 2, 1, 0, 7, 2, 4, 2, 7, 4, 2, 6, 6, 1, 5, 4, 0, 1, 9, 7, 5, 6, 5, 6, 9, 6, 6, 4, 5, 4, 8, 9, 0, 9, 5, 5, 7, 7, 9, 3, 3, 8, 4, 3, 9, 3, 1, 0, 2, 5, 2, 8, 7, 9, 7, 7, 7, 9, 2, 6, 0, 6, 7, 6, 1, 8, 0, 3, 8, 5, 0, 5, 6, 9, 1, 1, 2, 2, 8, 9, 7, 7, 5, 8, 6, 1, 4, 0, 1, 8, 4, 3, 4, 7, 9, 3, 7, 5, 5, 0, 9, 1, 4, 1, 2, 7, 4, 0, 9, 3, 4, 0, 1, 7, 8, 1, 6, 5, 9, 0, 0, 9, 5, 3, 8, 8, 2, 8, 5, 7, 0, 7, 0, 9, 6, 9, 2, 9, 4, 8, 5, 4, 0, 1, 6, 6, 4, 7, 4, 1, 7, 7, 8, 5, 7, 0, 6, 6, 2, 1, 6, 8, 0, 6, 2, 7, 5, 9, 1, 0, 4, 3, 7, 0, 6, 3, 1, 8, 4, 7, 2, 5, 7, 3, 1, 7, 1, 9, 2, 9, 6, 2, 2, 1, 8, 4, 9, 8, 4, 0, 4, 8, 4, 5, 1, 2, 2, 6, 4, 1, 8, 5, 7, 7, 7, 6, 5, 5, 7, 9, 9, 8, 2, 8, 2, 1, 3, 3, 4, 8, 9, 4, 0, 7, 0, 6, 8, 1, 6, 6, 1, 6, 5, 4, 9, 7, 2, 8, 7, 3, 7, 2, 1, 2, 1, 7, 4, 8, 8, 5, 6, 2, 6, 0, 1, 2, 6, 5, 0, 1, 5, 5, 2, 5, 1, 7, 8, 7, 1, 2, 7, 0, 9, 6, 1, 9, 0, 4, 2, 6, 5, 9, 9, 4, 2, 7, 1, 8, 1, 4, 2, 3, 7, 8, 4, 6, 4, 5, 1, 2, 9, 3, 5, 8, 0, 1, 9, 6, 7, 3, 7, 4, 4, 6, 6, 2, 1, 3, 3, 6, 7, 0, 5, 9, 8, 9, 3, 7, 9, 9, 6, 8, 8, 0, 1, 4, 4, 0, 2, 8, 1, 2, 1, 6, 3, 2, 7, 8, 7, 0, 4, 3, 6, 4, 5, 7, 7, 4, 5, 2, 4, 5, 0, 1, 7, 0, 7, 6, 0, 0, 6, 5, 1, 1, 2, 4, 6, 9, 8, 1, 0, 1, 6, 8, 5, 4, 0, 4, 0, 4, 9, 3, 8, 5, 2, 8, 6, 2, 8, 6, 4, 4, 0, 8, 7, 5, 2, 8, 9, 2, 9, 5, 9, 2, 1, 0, 4, 1, 7, 7, 1, 7, 3, 5, 8, 7, 2, 5, 1, 5, 2, 0, 6, 0, 1, 2, 4, 4, 8, 0, 3, 2, 2, 3, 5, 1, 2, 3, 0, 5, 1, 8, 3, 1, 8, 7, 8, 4, 2, 0, 0, 7, 8, 1, 3, 9, 0, 2, 8, 1, 4, 8, 8, 3, 0, 8, 5, 7, 5, 4, 7, 7, 6, 1, 8, 1, 7, 7, 0, 3, 1, 6, 5, 5, 3, 8, 9, 4, 0, 9, 5, 1, 7, 2, 1, 5, 2, 8, 3, 3, 2, 7, 1, 3, 4, 4, 5, 7, 0, 6, 7, 3, 3, 7, 8, 8, 2, 9, 6, 9, 7, 1, 2, 9, 3, 0, 5, 5, 6, 9, 1, 4, 1, 5, 6, 4, 1, 4, 0, 3, 3, 6, 3, 0, 8, 4, 7, 5, 5, 7, 0, 7, 9, 4, 4, 2, 9, 1, 7, 1, 8, 8, 8, 5, 8, 3, 8, 9, 3, 0, 0, 2, 1, 8, 4, 4, 0, 0, 9, 5, 3, 1, 9, 1, 3, 5, 0, 2, 2, 1, 7, 3, 0, 8, 2, 9, 6, 9, 0, 0, 4, 1, 2, 6, 4, 9, 1, 4, 9, 7, 8, 2, 6, 2, 9, 7, 8, 5, 0, 9, 0, 0, 0, 8, 1, 3, 2, 7, 5, 8, 2, 5, 6, 8, 9, 1, 9, 1, 8, 1, 5]\n"
          ],
          "name": "stdout"
        }
      ]
    },
    {
      "cell_type": "code",
      "metadata": {
        "colab": {
          "base_uri": "https://localhost:8080/"
        },
        "id": "NPRbnz_ZMWQo",
        "outputId": "a5e489d4-0e3e-4f26-cda3-835b1c62d72d"
      },
      "source": [
        "mat = confusion_matrix(test_labels, y_test_pred)\n",
        "print(\"Confusion Matrix is :\\n\", mat)"
      ],
      "execution_count": null,
      "outputs": [
        {
          "output_type": "stream",
          "text": [
            "Confusion Matrix is :\n",
            " [[823   1  23  13   6   2 130   0   2   0]\n",
            " [  4 972   2  16   3   1   1   0   1   0]\n",
            " [ 14   2 822   5  93   0  64   0   0   0]\n",
            " [ 27   8  15 858  51   0  40   0   1   0]\n",
            " [  1   1 102  15 799   0  82   0   0   0]\n",
            " [  0   0   0   0   0 969   0  22   0   9]\n",
            " [103   1 106  19  55   0 712   0   4   0]\n",
            " [  0   0   0   0   0  13   0 979   0   8]\n",
            " [  7   0   4   2  15   6   8   6 952   0]\n",
            " [  0   0   0   0   0   9   1  88   0 902]]\n"
          ],
          "name": "stdout"
        }
      ]
    },
    {
      "cell_type": "markdown",
      "metadata": {
        "id": "KLoi4pHtUWho"
      },
      "source": [
        "Which type of prediction mistake occurs most frequently?"
      ]
    },
    {
      "cell_type": "code",
      "metadata": {
        "id": "uHtmd26bNErI"
      },
      "source": [
        "# Which type of prediction mistake occurs most frequently?\n",
        "# On the diagonal of the confusion matrix, the largest value is 979 which is at column index 7 count from 0\n",
        "# At index 7, we have T-shirt as show in the image that I display in the battom. Thus, I conclut that T-shirt are being \n",
        "# mistaken and it is the most common prediction error. "
      ],
      "execution_count": null,
      "outputs": []
    },
    {
      "cell_type": "code",
      "metadata": {
        "colab": {
          "base_uri": "https://localhost:8080/",
          "height": 283
        },
        "id": "m-EJAmZrTJpe",
        "outputId": "d4ff8e97-5d47-465d-867e-d0241bda105e"
      },
      "source": [
        "idx = 7\n",
        "img1 = train_images[idx, :, :] # : means that we include all indices\n",
        "plt.imshow(img1, cmap=plt.cm.binary)"
      ],
      "execution_count": null,
      "outputs": [
        {
          "output_type": "execute_result",
          "data": {
            "text/plain": [
              "<matplotlib.image.AxesImage at 0x7f09c1cce690>"
            ]
          },
          "metadata": {
            "tags": []
          },
          "execution_count": 40
        },
        {
          "output_type": "display_data",
          "data": {
            "image/png": "[encoded data removed]",
            "text/plain": [
              "<Figure size 432x288 with 1 Axes>"
            ]
          },
          "metadata": {
            "tags": [],
            "needs_background": "light"
          }
        }
      ]
    }
  ]
}