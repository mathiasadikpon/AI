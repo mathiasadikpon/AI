{
  "nbformat": 4,
  "nbformat_minor": 0,
  "metadata": {
    "colab": {
      "name": "MidtermProject_Part_2_Mathias_Adikpon",
      "provenance": [],
      "collapsed_sections": [],
      "include_colab_link": true
    },
    "kernelspec": {
      "name": "python3",
      "display_name": "Python 3"
    }
  },
  "cells": [
    {
      "cell_type": "markdown",
      "metadata": {
        "id": "view-in-github",
        "colab_type": "text"
      },
      "source": [
        "<a href=\"https://colab.research.google.com/github/mathiasadikpon/AI/blob/main/MidtermProject_Part_2_Mathias_Adikpon.ipynb\" target=\"_parent\"><img src=\"https://colab.research.google.com/assets/colab-badge.svg\" alt=\"Open In Colab\"/></a>"
      ]
    },
    {
      "cell_type": "markdown",
      "metadata": {
        "id": "laRpm7hK8pSi"
      },
      "source": [
        "# Artificial Intelligence Midterm Project\n",
        "\n",
        "In this project, you will build a regression model and a classification model from scratch. Please follow the instructions closely, and only use Python's Numpy, Pandas, and matplotlib library to complete this project. Using functions from `sklearn` is not allowed.\n",
        "\n",
        "**Part I** dues on Monday, March 22nd at 11:59 PM.\n",
        "**Part II** dues on Monday, April 12th at 11:59 PM."
      ]
    },
    {
      "cell_type": "code",
      "metadata": {
        "id": "bo6dHwyJyEik"
      },
      "source": [
        "import numpy as np\n",
        "import pandas as pd\n",
        "import matplotlib.pyplot as plt\n",
        "%matplotlib inline"
      ],
      "execution_count": null,
      "outputs": []
    },
    {
      "cell_type": "markdown",
      "metadata": {
        "id": "V4Jn_QfFyP08"
      },
      "source": [
        "## Part I: A Regression Model\n",
        "\n",
        "In this part, please build a multilinear regression model that extracts the relationship between housing prices and other relevant variables. The training data is shown in the table below:\n"
      ]
    },
    {
      "cell_type": "code",
      "metadata": {
        "colab": {
          "base_uri": "https://localhost:8080/",
          "height": 202
        },
        "id": "goxKcZMU8uwh",
        "outputId": "87abdaf3-2e95-4c65-af59-c5aac6184108"
      },
      "source": [
        "data1 = pd.DataFrame({\n",
        "    \"YearBuilt\": [1974, 1996, 1968, 1962, 1960],\n",
        "    \"YearSold\": [2015, 2017, 2020, 2010, 2016],\n",
        "    \"Bedrooms\": [3, 10, 4, 5, 6],\n",
        "    \"TotalArea\": [1500, 4000, 1700, 2500, 2000],\n",
        "    \"Quality\": [7.5, 6, 4, 5.5, 5],\n",
        "    \"Price\": [358500, 452600, 352100, 341300, 342200]\n",
        "})\n",
        "\n",
        "data1"
      ],
      "execution_count": null,
      "outputs": [
        {
          "output_type": "execute_result",
          "data": {
            "text/html": [
              "<div>\n",
              "<style scoped>\n",
              "    .dataframe tbody tr th:only-of-type {\n",
              "        vertical-align: middle;\n",
              "    }\n",
              "\n",
              "    .dataframe tbody tr th {\n",
              "        vertical-align: top;\n",
              "    }\n",
              "\n",
              "    .dataframe thead th {\n",
              "        text-align: right;\n",
              "    }\n",
              "</style>\n",
              "<table border=\"1\" class=\"dataframe\">\n",
              "  <thead>\n",
              "    <tr style=\"text-align: right;\">\n",
              "      <th></th>\n",
              "      <th>YearBuilt</th>\n",
              "      <th>YearSold</th>\n",
              "      <th>Bedrooms</th>\n",
              "      <th>TotalArea</th>\n",
              "      <th>Quality</th>\n",
              "      <th>Price</th>\n",
              "    </tr>\n",
              "  </thead>\n",
              "  <tbody>\n",
              "    <tr>\n",
              "      <th>0</th>\n",
              "      <td>1974</td>\n",
              "      <td>2015</td>\n",
              "      <td>3</td>\n",
              "      <td>1500</td>\n",
              "      <td>7.5</td>\n",
              "      <td>358500</td>\n",
              "    </tr>\n",
              "    <tr>\n",
              "      <th>1</th>\n",
              "      <td>1996</td>\n",
              "      <td>2017</td>\n",
              "      <td>10</td>\n",
              "      <td>4000</td>\n",
              "      <td>6.0</td>\n",
              "      <td>452600</td>\n",
              "    </tr>\n",
              "    <tr>\n",
              "      <th>2</th>\n",
              "      <td>1968</td>\n",
              "      <td>2020</td>\n",
              "      <td>4</td>\n",
              "      <td>1700</td>\n",
              "      <td>4.0</td>\n",
              "      <td>352100</td>\n",
              "    </tr>\n",
              "    <tr>\n",
              "      <th>3</th>\n",
              "      <td>1962</td>\n",
              "      <td>2010</td>\n",
              "      <td>5</td>\n",
              "      <td>2500</td>\n",
              "      <td>5.5</td>\n",
              "      <td>341300</td>\n",
              "    </tr>\n",
              "    <tr>\n",
              "      <th>4</th>\n",
              "      <td>1960</td>\n",
              "      <td>2016</td>\n",
              "      <td>6</td>\n",
              "      <td>2000</td>\n",
              "      <td>5.0</td>\n",
              "      <td>342200</td>\n",
              "    </tr>\n",
              "  </tbody>\n",
              "</table>\n",
              "</div>"
            ],
            "text/plain": [
              "   YearBuilt  YearSold  Bedrooms  TotalArea  Quality   Price\n",
              "0       1974      2015         3       1500      7.5  358500\n",
              "1       1996      2017        10       4000      6.0  452600\n",
              "2       1968      2020         4       1700      4.0  352100\n",
              "3       1962      2010         5       2500      5.5  341300\n",
              "4       1960      2016         6       2000      5.0  342200"
            ]
          },
          "metadata": {
            "tags": []
          },
          "execution_count": 13
        }
      ]
    },
    {
      "cell_type": "markdown",
      "metadata": {
        "id": "Yk67CJ87BqaU"
      },
      "source": [
        "### Task 1: Data Transformation (10 pts)\n",
        "Create a new column named \"Age\" that represents the age of each house when it was sold."
      ]
    },
    {
      "cell_type": "code",
      "metadata": {
        "id": "cs9awohjBqMT",
        "colab": {
          "base_uri": "https://localhost:8080/",
          "height": 202
        },
        "outputId": "9cf0a80c-4584-40fb-868e-1dbd0793c18c"
      },
      "source": [
        "# Your Code Here\n",
        "data1['Age'] = data1['YearSold'] - data1['YearBuilt']\n",
        "data1\n"
      ],
      "execution_count": null,
      "outputs": [
        {
          "output_type": "execute_result",
          "data": {
            "text/html": [
              "<div>\n",
              "<style scoped>\n",
              "    .dataframe tbody tr th:only-of-type {\n",
              "        vertical-align: middle;\n",
              "    }\n",
              "\n",
              "    .dataframe tbody tr th {\n",
              "        vertical-align: top;\n",
              "    }\n",
              "\n",
              "    .dataframe thead th {\n",
              "        text-align: right;\n",
              "    }\n",
              "</style>\n",
              "<table border=\"1\" class=\"dataframe\">\n",
              "  <thead>\n",
              "    <tr style=\"text-align: right;\">\n",
              "      <th></th>\n",
              "      <th>YearBuilt</th>\n",
              "      <th>YearSold</th>\n",
              "      <th>Bedrooms</th>\n",
              "      <th>TotalArea</th>\n",
              "      <th>Quality</th>\n",
              "      <th>Price</th>\n",
              "      <th>Age</th>\n",
              "    </tr>\n",
              "  </thead>\n",
              "  <tbody>\n",
              "    <tr>\n",
              "      <th>0</th>\n",
              "      <td>1974</td>\n",
              "      <td>2015</td>\n",
              "      <td>3</td>\n",
              "      <td>1500</td>\n",
              "      <td>7.5</td>\n",
              "      <td>358500</td>\n",
              "      <td>41</td>\n",
              "    </tr>\n",
              "    <tr>\n",
              "      <th>1</th>\n",
              "      <td>1996</td>\n",
              "      <td>2017</td>\n",
              "      <td>10</td>\n",
              "      <td>4000</td>\n",
              "      <td>6.0</td>\n",
              "      <td>452600</td>\n",
              "      <td>21</td>\n",
              "    </tr>\n",
              "    <tr>\n",
              "      <th>2</th>\n",
              "      <td>1968</td>\n",
              "      <td>2020</td>\n",
              "      <td>4</td>\n",
              "      <td>1700</td>\n",
              "      <td>4.0</td>\n",
              "      <td>352100</td>\n",
              "      <td>52</td>\n",
              "    </tr>\n",
              "    <tr>\n",
              "      <th>3</th>\n",
              "      <td>1962</td>\n",
              "      <td>2010</td>\n",
              "      <td>5</td>\n",
              "      <td>2500</td>\n",
              "      <td>5.5</td>\n",
              "      <td>341300</td>\n",
              "      <td>48</td>\n",
              "    </tr>\n",
              "    <tr>\n",
              "      <th>4</th>\n",
              "      <td>1960</td>\n",
              "      <td>2016</td>\n",
              "      <td>6</td>\n",
              "      <td>2000</td>\n",
              "      <td>5.0</td>\n",
              "      <td>342200</td>\n",
              "      <td>56</td>\n",
              "    </tr>\n",
              "  </tbody>\n",
              "</table>\n",
              "</div>"
            ],
            "text/plain": [
              "   YearBuilt  YearSold  Bedrooms  TotalArea  Quality   Price  Age\n",
              "0       1974      2015         3       1500      7.5  358500   41\n",
              "1       1996      2017        10       4000      6.0  452600   21\n",
              "2       1968      2020         4       1700      4.0  352100   52\n",
              "3       1962      2010         5       2500      5.5  341300   48\n",
              "4       1960      2016         6       2000      5.0  342200   56"
            ]
          },
          "metadata": {
            "tags": []
          },
          "execution_count": 14
        }
      ]
    },
    {
      "cell_type": "markdown",
      "metadata": {
        "id": "kBzHY7sj-6P5"
      },
      "source": [
        "### Task 2: Train a Multilinear Model (20 pts)\n",
        "Assume that the price can be expressed as a linear combination of age, bedrooms, total area, and quality:\n",
        "\n",
        "$Price = \\theta_0 + \\theta_1 \\cdot Age + \\theta_2 \\cdot Bedrooms + \\theta_3 \\cdot TotalArea + \\theta_4 \\cdot Quality.$\n",
        "\n",
        "Apply the normal equation to find the best values for the parameters:\n",
        "1. Construct matrix $\\textbf{X}$ and $\\textbf{y}$ (the matrices are defined in Week 6 notebook and Chapter 4 of the textbook).\n",
        "2. Calculate the parameter vector using the normal equation\n",
        "$\\theta = \\big(\\textbf{X}^T\\cdot\\textbf{X}\\big)^{-1}\\cdot\\textbf{X}^T\\cdot\\textbf{y}$"
      ]
    },
    {
      "cell_type": "code",
      "metadata": {
        "id": "E_K5F4oD-S6Y"
      },
      "source": [
        "# 1.Construct matrix  X  and  y  (the matrices are defined in Week 6 notebook and Chapter 4 of the textbook).\n",
        "\n",
        "# Construct matrix X using np.hstack(), np.ones()\n",
        "#  Construct a column of ones\n",
        "input_col = ['Age','Bedrooms', 'TotalArea', 'Quality']\n",
        "X = np.hstack([np.ones([len(data1), 1]), data1[input_col].values])\n",
        "\n",
        "# Construct vector y\n",
        "y = data1[['Price']].values"
      ],
      "execution_count": null,
      "outputs": []
    },
    {
      "cell_type": "code",
      "metadata": {
        "colab": {
          "base_uri": "https://localhost:8080/"
        },
        "id": "FvrN0VcRzR9H",
        "outputId": "4d3b9234-772a-4f3c-befc-979c1dd4b00b"
      },
      "source": [
        "# 2. Calculate the parameter vector using the normal equation  θ=(XT⋅X)−1⋅XT⋅y\n",
        "theta = np.linalg.inv(X.T.dot(X)).dot(X.T).dot(y)\n",
        "print(theta)"
      ],
      "execution_count": null,
      "outputs": [
        {
          "output_type": "stream",
          "text": [
            "[[ 5.92376387e+05]\n",
            " [-3.83925328e+03]\n",
            " [ 1.17271948e+04]\n",
            " [-3.11089808e+01]\n",
            " [-8.66468214e+03]]\n"
          ],
          "name": "stdout"
        }
      ]
    },
    {
      "cell_type": "markdown",
      "metadata": {
        "id": "CYhiUFfuAVjM"
      },
      "source": [
        "### Task 3: Make A Prediction (10 pts)\n",
        "Suppose that there is another house with the following attribute:\n",
        "- YearBuilt: 1985\n",
        "- YearSold: 2021\n",
        "- Bedrooms: 6\n",
        "- Total Area: 2500\n",
        "- Quality: 5.5\n",
        "\n",
        "Use the parameter values that you have calculated to make a prediction on its sale price."
      ]
    },
    {
      "cell_type": "code",
      "metadata": {
        "id": "RxMICEwzAVll",
        "colab": {
          "base_uri": "https://localhost:8080/"
        },
        "outputId": "bc7819c0-95ca-4344-e2c3-48e108dc3dd8"
      },
      "source": [
        "# Let's use the vector form to get the prediction.\n",
        "# prediction = inner-product of the parameter vector and the feature vector.\n",
        "#parameter_vector = np.array([592376.387,-3839.25328,11727.1948,-31.1089808, -8664.68214])\n",
        "parameter_vector = np.array([theta[0][0],theta[1][0], theta[2][0], theta[3][0], theta[4][0]])\n",
        "\n",
        "feature_vector = np.array([1, 2021 - 1985, 6, 2500, 5.5])\n",
        "prediction = parameter_vector.dot(feature_vector)\n",
        "print(prediction)\n"
      ],
      "execution_count": null,
      "outputs": [
        {
          "output_type": "stream",
          "text": [
            "399098.23410694493\n"
          ],
          "name": "stdout"
        }
      ]
    },
    {
      "cell_type": "markdown",
      "metadata": {
        "id": "TESGJJp2AVoN"
      },
      "source": [
        "## Part II: A Classification Model\n",
        "\n",
        "In this part, we will build a logistic regression model and evaluate its performance on the classifying the data. The dataset is as follows:\n"
      ]
    },
    {
      "cell_type": "code",
      "metadata": {
        "colab": {
          "base_uri": "https://localhost:8080/",
          "height": 263
        },
        "id": "an34K0ecAVql",
        "outputId": "173464f9-d839-47bd-9c2d-c90880c9396d"
      },
      "source": [
        "data2 = pd.DataFrame([[5.0, 2.0, 1],\n",
        "                      [6.2, 3.4, 1],\n",
        "                      [4.9, 3.6, 0],\n",
        "                      [6.2, 2.2, 1],\n",
        "                      [5.7, 3.0, 1],\n",
        "                      [4.8, 3.4, 0],\n",
        "                      [5.0, 3.4, 0]],\n",
        "                     columns=[\"x1\", \"x2\", \"class\"])\n",
        "data2"
      ],
      "execution_count": null,
      "outputs": [
        {
          "output_type": "execute_result",
          "data": {
            "text/html": [
              "<div>\n",
              "<style scoped>\n",
              "    .dataframe tbody tr th:only-of-type {\n",
              "        vertical-align: middle;\n",
              "    }\n",
              "\n",
              "    .dataframe tbody tr th {\n",
              "        vertical-align: top;\n",
              "    }\n",
              "\n",
              "    .dataframe thead th {\n",
              "        text-align: right;\n",
              "    }\n",
              "</style>\n",
              "<table border=\"1\" class=\"dataframe\">\n",
              "  <thead>\n",
              "    <tr style=\"text-align: right;\">\n",
              "      <th></th>\n",
              "      <th>x1</th>\n",
              "      <th>x2</th>\n",
              "      <th>class</th>\n",
              "    </tr>\n",
              "  </thead>\n",
              "  <tbody>\n",
              "    <tr>\n",
              "      <th>0</th>\n",
              "      <td>5.0</td>\n",
              "      <td>2.0</td>\n",
              "      <td>1</td>\n",
              "    </tr>\n",
              "    <tr>\n",
              "      <th>1</th>\n",
              "      <td>6.2</td>\n",
              "      <td>3.4</td>\n",
              "      <td>1</td>\n",
              "    </tr>\n",
              "    <tr>\n",
              "      <th>2</th>\n",
              "      <td>4.9</td>\n",
              "      <td>3.6</td>\n",
              "      <td>0</td>\n",
              "    </tr>\n",
              "    <tr>\n",
              "      <th>3</th>\n",
              "      <td>6.2</td>\n",
              "      <td>2.2</td>\n",
              "      <td>1</td>\n",
              "    </tr>\n",
              "    <tr>\n",
              "      <th>4</th>\n",
              "      <td>5.7</td>\n",
              "      <td>3.0</td>\n",
              "      <td>1</td>\n",
              "    </tr>\n",
              "    <tr>\n",
              "      <th>5</th>\n",
              "      <td>4.8</td>\n",
              "      <td>3.4</td>\n",
              "      <td>0</td>\n",
              "    </tr>\n",
              "    <tr>\n",
              "      <th>6</th>\n",
              "      <td>5.0</td>\n",
              "      <td>3.4</td>\n",
              "      <td>0</td>\n",
              "    </tr>\n",
              "  </tbody>\n",
              "</table>\n",
              "</div>"
            ],
            "text/plain": [
              "    x1   x2  class\n",
              "0  5.0  2.0      1\n",
              "1  6.2  3.4      1\n",
              "2  4.9  3.6      0\n",
              "3  6.2  2.2      1\n",
              "4  5.7  3.0      1\n",
              "5  4.8  3.4      0\n",
              "6  5.0  3.4      0"
            ]
          },
          "metadata": {
            "tags": []
          },
          "execution_count": 85
        }
      ]
    },
    {
      "cell_type": "markdown",
      "metadata": {
        "id": "xSoBjGdmAVvj"
      },
      "source": [
        "### Task 1: Data Visualization (10 pts)\n",
        "Visualize the data as a scatter plot. Show class 0 records as green dots and class 1 records as blue dots. Display the following items:\n",
        "- Title of the plot: Distribution of the training data\n",
        "- Label for x axis: x1\n",
        "- Label for y axis: x2\n",
        "- Legend"
      ]
    },
    {
      "cell_type": "code",
      "metadata": {
        "id": "tJ3yYz2TEFtU",
        "colab": {
          "base_uri": "https://localhost:8080/",
          "height": 295
        },
        "outputId": "6d941312-5c42-486c-f530-7229605fabdc"
      },
      "source": [
        "# Your Code Here\n",
        "\n",
        "green_pts = data2[data2['class'] == 0]\n",
        "blue_pts = data2[data2['class'] == 1]\n",
        "plt.plot(green_pts['x1'], green_pts['x2'], 'g.', label='y = 0')\n",
        "plt.plot(blue_pts['x1'], blue_pts['x2'], 'b.', label='y = 1')\n",
        "plt.title('Distribution of the training data')\n",
        "plt.xlabel('x1')\n",
        "plt.ylabel('x2')\n",
        "plt.legend(loc='lower left')\n",
        "plt.show()"
      ],
      "execution_count": null,
      "outputs": [
        {
          "output_type": "display_data",
          "data": {
            "image/png": "[encoded data removed]",
            "text/plain": [
              "<Figure size 432x288 with 1 Axes>"
            ]
          },
          "metadata": {
            "tags": [],
            "needs_background": "light"
          }
        }
      ]
    },
    {
      "cell_type": "markdown",
      "metadata": {
        "id": "ci_icuTREOxj"
      },
      "source": [
        "### Task 2: Apply A Logistic Regression Model (10 pts)\n",
        "\n",
        "Suppose that you are given a logistic regression model with explicity paramter values:\n",
        "\n",
        "$p = \\sigma(\\textbf{x}\\cdot\\theta^T).$\n",
        "\n",
        "where\n",
        "- p: the probability that the point belongs to class 1.\n",
        "- $\\textbf{x} = (1, x_1, x_2)$.\n",
        "- $\\theta = (\\theta_0, \\theta_1, \\theta_2) = (-2.15, 0.92, -0.82)$.\n",
        "- $\\sigma(t) = \\frac{1}{1+e^{-t}}$\n",
        "\n",
        "Find the model's prediction on the following test set:"
      ]
    },
    {
      "cell_type": "code",
      "metadata": {
        "colab": {
          "base_uri": "https://localhost:8080/",
          "height": 171
        },
        "id": "7gOdAR4pGWOW",
        "outputId": "4b49145d-f454-41e7-a0e6-a88866e45e14"
      },
      "source": [
        "data3 = pd.DataFrame([[5.1, 3.4, 0],\n",
        "                      [6.5, 2.8, 1],\n",
        "                      [5.8, 2.7, 1],\n",
        "                      [4.6, 3.1, 0]],\n",
        "                     columns=[\"x1\", \"x2\", \"class\"])\n",
        "data3"
      ],
      "execution_count": null,
      "outputs": [
        {
          "output_type": "execute_result",
          "data": {
            "text/html": [
              "<div>\n",
              "<style scoped>\n",
              "    .dataframe tbody tr th:only-of-type {\n",
              "        vertical-align: middle;\n",
              "    }\n",
              "\n",
              "    .dataframe tbody tr th {\n",
              "        vertical-align: top;\n",
              "    }\n",
              "\n",
              "    .dataframe thead th {\n",
              "        text-align: right;\n",
              "    }\n",
              "</style>\n",
              "<table border=\"1\" class=\"dataframe\">\n",
              "  <thead>\n",
              "    <tr style=\"text-align: right;\">\n",
              "      <th></th>\n",
              "      <th>x1</th>\n",
              "      <th>x2</th>\n",
              "      <th>class</th>\n",
              "    </tr>\n",
              "  </thead>\n",
              "  <tbody>\n",
              "    <tr>\n",
              "      <th>0</th>\n",
              "      <td>5.1</td>\n",
              "      <td>3.4</td>\n",
              "      <td>0</td>\n",
              "    </tr>\n",
              "    <tr>\n",
              "      <th>1</th>\n",
              "      <td>6.5</td>\n",
              "      <td>2.8</td>\n",
              "      <td>1</td>\n",
              "    </tr>\n",
              "    <tr>\n",
              "      <th>2</th>\n",
              "      <td>5.8</td>\n",
              "      <td>2.7</td>\n",
              "      <td>1</td>\n",
              "    </tr>\n",
              "    <tr>\n",
              "      <th>3</th>\n",
              "      <td>4.6</td>\n",
              "      <td>3.1</td>\n",
              "      <td>0</td>\n",
              "    </tr>\n",
              "  </tbody>\n",
              "</table>\n",
              "</div>"
            ],
            "text/plain": [
              "    x1   x2  class\n",
              "0  5.1  3.4      0\n",
              "1  6.5  2.8      1\n",
              "2  5.8  2.7      1\n",
              "3  4.6  3.1      0"
            ]
          },
          "metadata": {
            "tags": []
          },
          "execution_count": 87
        }
      ]
    },
    {
      "cell_type": "code",
      "metadata": {
        "colab": {
          "base_uri": "https://localhost:8080/"
        },
        "id": "dIs8K36ppNxp",
        "outputId": "f43aa507-fb23-4872-c5c3-ea49882b34ef"
      },
      "source": [
        "theta = np.array([-2.15,0.92,-0.82]) \n",
        "\n",
        "# Now calculate p for input x and find prediction\n",
        "input_col = ['x1', 'x2']\n",
        "list_p = []\n",
        "List_prediction = []\n",
        "\n",
        "for i in data3.index:\n",
        "    # print(i)\n",
        "    x = np.array([1, data3.loc[i, 'x1'], data3.loc[i, 'x2']])\n",
        "    t = x.dot(theta.T)\n",
        "    p = 1 / (1 + np.e ** (-t))\n",
        "    list_p.append(p)\n",
        "    if p >= 0.5:\n",
        "     List_prediction.append(1)\n",
        "    else:\n",
        "      List_prediction.append(0)\n",
        "\n",
        "\n",
        "print(\"list_p: \", list_p)\n",
        "print(\"List_prediction: \", List_prediction)"
      ],
      "execution_count": null,
      "outputs": [
        {
          "output_type": "stream",
          "text": [
            "list_p:  [0.4388082790527956, 0.8225908083256755, 0.7255179606769018, 0.38698582386066455]\n",
            "List_prediction:  [0, 1, 1, 0]\n"
          ],
          "name": "stdout"
        }
      ]
    },
    {
      "cell_type": "markdown",
      "metadata": {
        "id": "HW5kVRygGo1j"
      },
      "source": [
        "### Task 3: Model Evaluation (40 pts)\n",
        "Calculate the following model metrics regarding the performance on the test set:\n",
        "- classification accuracy\n",
        "- precision score\n",
        "- recall score\n",
        "- F-1 score"
      ]
    },
    {
      "cell_type": "code",
      "metadata": {
        "id": "_cymkGXo-uRa",
        "colab": {
          "base_uri": "https://localhost:8080/"
        },
        "outputId": "7860aa19-17cf-45ad-e50a-26ee6870bc5b"
      },
      "source": [
        "# Classification Accuracy\n",
        "\n",
        "array1 = np.array(data3['class'])\n",
        "array2 = List_prediction\n",
        "\n",
        "# Count the number of pairs that have identical values\n",
        "count = 0\n",
        "for i in range(len(array1)):\n",
        "    actual = array1[i]\n",
        "    pred = array2[i]\n",
        "    if actual == pred:\n",
        "        count = count + 1\n",
        "\n",
        "accuracy = count / len(array1)\n",
        "print('Accuracy: ',accuracy)"
      ],
      "execution_count": null,
      "outputs": [
        {
          "output_type": "stream",
          "text": [
            "Accuracy:  1.0\n"
          ],
          "name": "stdout"
        }
      ]
    },
    {
      "cell_type": "code",
      "metadata": {
        "id": "-RJyTLUgHYWO",
        "colab": {
          "base_uri": "https://localhost:8080/"
        },
        "outputId": "390ecaa1-3760-4ce0-b9c1-d8e7a11b3691"
      },
      "source": [
        "# Precision Score\n",
        "num_true_positives = 0\n",
        "for i in range(len(array1)):\n",
        "    label = array1[i]\n",
        "    pred = array2[i]\n",
        "    if label == 1 and pred == 1 :\n",
        "        num_true_positives = num_true_positives + 1\n",
        "print('num_true_positives: ', num_true_positives)\n",
        "\n",
        "num_false_positives = 0\n",
        "for i in range(len(array1)):\n",
        "    label = array1[i]\n",
        "    pred = array2[i]\n",
        "    if label == 0 and pred == 1:\n",
        "        num_false_positives = num_false_positives + 1\n",
        "print('num_false_positives: ', num_false_positives)\n",
        "\n",
        "precision = num_true_positives / (num_true_positives + num_false_positives)\n",
        "print('Precision: ',precision)\n"
      ],
      "execution_count": null,
      "outputs": [
        {
          "output_type": "stream",
          "text": [
            "num_true_positives:  2\n",
            "num_false_positives:  0\n",
            "Precision:  1.0\n"
          ],
          "name": "stdout"
        }
      ]
    },
    {
      "cell_type": "code",
      "metadata": {
        "id": "ADK-WMCrHZQA",
        "colab": {
          "base_uri": "https://localhost:8080/"
        },
        "outputId": "bbebe3fa-eeb1-4e9c-d98b-922cfb4a2473"
      },
      "source": [
        "# Recall Score\n",
        "# Use a for loop to find the number of false negatives\n",
        "num_false_negatives = 0\n",
        "for i in range(len(array1)):\n",
        "    label = array1[i]\n",
        "    pred = array2[i]\n",
        "    if label == 1 and pred == 0:\n",
        "        num_false_negatives = num_false_negatives + 1\n",
        "print('num_false_negatives: ', num_false_negatives)\n",
        "# Calculate recall: num_true_positives / (num_true_positives + num_false_negatives)\n",
        "recall = num_true_positives / (num_true_positives + num_false_negatives)\n",
        "print('Recall: ', recall)\n"
      ],
      "execution_count": null,
      "outputs": [
        {
          "output_type": "stream",
          "text": [
            "num_false_negatives:  0\n",
            "Recall:  1.0\n"
          ],
          "name": "stdout"
        }
      ]
    },
    {
      "cell_type": "code",
      "metadata": {
        "id": "yp903_hxHaGk",
        "colab": {
          "base_uri": "https://localhost:8080/"
        },
        "outputId": "3406b57a-5850-4f3b-d51f-342576b90ad5"
      },
      "source": [
        "# F-1 Score\n",
        "\n",
        "f1 = 2 / (1 / precision + 1 / recall)\n",
        "print('F-1: ', f1)"
      ],
      "execution_count": null,
      "outputs": [
        {
          "output_type": "stream",
          "text": [
            "F-1:  1.0\n"
          ],
          "name": "stdout"
        }
      ]
    }
  ]
}