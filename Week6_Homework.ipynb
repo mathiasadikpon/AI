{
  "nbformat": 4,
  "nbformat_minor": 0,
  "metadata": {
    "colab": {
      "name": "Week6_Homework.ipynb",
      "provenance": [],
      "collapsed_sections": [],
      "authorship_tag": "ABX9TyPe3fSSiotDKtUxjLdsJtIz",
      "include_colab_link": true
    },
    "kernelspec": {
      "name": "python3",
      "display_name": "Python 3"
    }
  },
  "cells": [
    {
      "cell_type": "markdown",
      "metadata": {
        "id": "view-in-github",
        "colab_type": "text"
      },
      "source": [
        "<a href=\"https://colab.research.google.com/github/mathiasadikpon/AI/blob/main/Week6_Homework.ipynb\" target=\"_parent\"><img src=\"https://colab.research.google.com/assets/colab-badge.svg\" alt=\"Open In Colab\"/></a>"
      ]
    },
    {
      "cell_type": "code",
      "metadata": {
        "id": "ZRXFKQ11ebs7"
      },
      "source": [
        "import numpy as np\n",
        "import pandas as pd\n",
        "import matplotlib.pyplot as plt\n",
        "%matplotlib inline"
      ],
      "execution_count": null,
      "outputs": []
    },
    {
      "cell_type": "code",
      "metadata": {
        "colab": {
          "base_uri": "https://localhost:8080/",
          "height": 202
        },
        "id": "GeNBK-Vlf0T6",
        "outputId": "cd05ccd1-2fe4-4cea-d574-36f9e1174d2b"
      },
      "source": [
        "# Load data set\n",
        "url = \"https://www.statlearning.com/s/Advertising.csv\"\n",
        "advertising = pd.read_csv(url, index_col=0)\n",
        "advertising.head()"
      ],
      "execution_count": null,
      "outputs": [
        {
          "output_type": "execute_result",
          "data": {
            "text/html": [
              "<div>\n",
              "<style scoped>\n",
              "    .dataframe tbody tr th:only-of-type {\n",
              "        vertical-align: middle;\n",
              "    }\n",
              "\n",
              "    .dataframe tbody tr th {\n",
              "        vertical-align: top;\n",
              "    }\n",
              "\n",
              "    .dataframe thead th {\n",
              "        text-align: right;\n",
              "    }\n",
              "</style>\n",
              "<table border=\"1\" class=\"dataframe\">\n",
              "  <thead>\n",
              "    <tr style=\"text-align: right;\">\n",
              "      <th></th>\n",
              "      <th>TV</th>\n",
              "      <th>radio</th>\n",
              "      <th>newspaper</th>\n",
              "      <th>sales</th>\n",
              "    </tr>\n",
              "  </thead>\n",
              "  <tbody>\n",
              "    <tr>\n",
              "      <th>1</th>\n",
              "      <td>230.1</td>\n",
              "      <td>37.8</td>\n",
              "      <td>69.2</td>\n",
              "      <td>22.1</td>\n",
              "    </tr>\n",
              "    <tr>\n",
              "      <th>2</th>\n",
              "      <td>44.5</td>\n",
              "      <td>39.3</td>\n",
              "      <td>45.1</td>\n",
              "      <td>10.4</td>\n",
              "    </tr>\n",
              "    <tr>\n",
              "      <th>3</th>\n",
              "      <td>17.2</td>\n",
              "      <td>45.9</td>\n",
              "      <td>69.3</td>\n",
              "      <td>9.3</td>\n",
              "    </tr>\n",
              "    <tr>\n",
              "      <th>4</th>\n",
              "      <td>151.5</td>\n",
              "      <td>41.3</td>\n",
              "      <td>58.5</td>\n",
              "      <td>18.5</td>\n",
              "    </tr>\n",
              "    <tr>\n",
              "      <th>5</th>\n",
              "      <td>180.8</td>\n",
              "      <td>10.8</td>\n",
              "      <td>58.4</td>\n",
              "      <td>12.9</td>\n",
              "    </tr>\n",
              "  </tbody>\n",
              "</table>\n",
              "</div>"
            ],
            "text/plain": [
              "      TV  radio  newspaper  sales\n",
              "1  230.1   37.8       69.2   22.1\n",
              "2   44.5   39.3       45.1   10.4\n",
              "3   17.2   45.9       69.3    9.3\n",
              "4  151.5   41.3       58.5   18.5\n",
              "5  180.8   10.8       58.4   12.9"
            ]
          },
          "metadata": {
            "tags": []
          },
          "execution_count": 18
        }
      ]
    },
    {
      "cell_type": "markdown",
      "metadata": {
        "id": "zIz77A0mkAcD"
      },
      "source": [
        "1. Use train_test_split to split the data into training set (80%) and test set (20%)."
      ]
    },
    {
      "cell_type": "code",
      "metadata": {
        "id": "_4VC9OqOj84b"
      },
      "source": [
        "# train_test_split\n",
        "from sklearn.model_selection import train_test_split\n",
        "training_data, test_data = train_test_split(advertising, test_size=0.2)"
      ],
      "execution_count": null,
      "outputs": []
    },
    {
      "cell_type": "markdown",
      "metadata": {
        "id": "XV32xz6Pkj4s"
      },
      "source": [
        "2. Build a multilinear regression model with 'TV', 'Radio', and 'newspaper' as input variables and 'sales' as output variable. Name the model model_lr. Train the model on the training set and obtain model predictions on the test set."
      ]
    },
    {
      "cell_type": "code",
      "metadata": {
        "colab": {
          "base_uri": "https://localhost:8080/",
          "height": 326
        },
        "id": "6mg9S4EPkmTn",
        "outputId": "14b932f2-80ea-4fd8-f157-26b60cc9d800"
      },
      "source": [
        "from sklearn.linear_model import LinearRegression\n",
        "\n",
        "model_lr = LinearRegression()\n",
        "input_cols = [\"TV\", \"radio\", \"newspaper\"]\n",
        "model_lr.fit(training_data[input_cols], training_data[[\"sales\"]]) \n",
        "predictions_lrs = model_lr.predict(test_data[input_cols])\n",
        "test_data['prediction_lr'] = predictions_lrs\n",
        "test_data.head()"
      ],
      "execution_count": null,
      "outputs": [
        {
          "output_type": "stream",
          "text": [
            "/usr/local/lib/python3.7/dist-packages/ipykernel_launcher.py:7: SettingWithCopyWarning: \n",
            "A value is trying to be set on a copy of a slice from a DataFrame.\n",
            "Try using .loc[row_indexer,col_indexer] = value instead\n",
            "\n",
            "See the caveats in the documentation: https://pandas.pydata.org/pandas-docs/stable/user_guide/indexing.html#returning-a-view-versus-a-copy\n",
            "  import sys\n"
          ],
          "name": "stderr"
        },
        {
          "output_type": "execute_result",
          "data": {
            "text/html": [
              "<div>\n",
              "<style scoped>\n",
              "    .dataframe tbody tr th:only-of-type {\n",
              "        vertical-align: middle;\n",
              "    }\n",
              "\n",
              "    .dataframe tbody tr th {\n",
              "        vertical-align: top;\n",
              "    }\n",
              "\n",
              "    .dataframe thead th {\n",
              "        text-align: right;\n",
              "    }\n",
              "</style>\n",
              "<table border=\"1\" class=\"dataframe\">\n",
              "  <thead>\n",
              "    <tr style=\"text-align: right;\">\n",
              "      <th></th>\n",
              "      <th>TV</th>\n",
              "      <th>radio</th>\n",
              "      <th>newspaper</th>\n",
              "      <th>sales</th>\n",
              "      <th>prediction_lr</th>\n",
              "    </tr>\n",
              "  </thead>\n",
              "  <tbody>\n",
              "    <tr>\n",
              "      <th>79</th>\n",
              "      <td>5.4</td>\n",
              "      <td>29.9</td>\n",
              "      <td>9.4</td>\n",
              "      <td>5.3</td>\n",
              "      <td>8.762701</td>\n",
              "    </tr>\n",
              "    <tr>\n",
              "      <th>133</th>\n",
              "      <td>8.4</td>\n",
              "      <td>27.2</td>\n",
              "      <td>2.1</td>\n",
              "      <td>5.7</td>\n",
              "      <td>8.428326</td>\n",
              "    </tr>\n",
              "    <tr>\n",
              "      <th>28</th>\n",
              "      <td>240.1</td>\n",
              "      <td>16.7</td>\n",
              "      <td>22.9</td>\n",
              "      <td>15.9</td>\n",
              "      <td>17.139641</td>\n",
              "    </tr>\n",
              "    <tr>\n",
              "      <th>68</th>\n",
              "      <td>139.3</td>\n",
              "      <td>14.5</td>\n",
              "      <td>10.2</td>\n",
              "      <td>13.4</td>\n",
              "      <td>12.094925</td>\n",
              "    </tr>\n",
              "    <tr>\n",
              "      <th>100</th>\n",
              "      <td>135.2</td>\n",
              "      <td>41.7</td>\n",
              "      <td>45.9</td>\n",
              "      <td>17.2</td>\n",
              "      <td>16.851507</td>\n",
              "    </tr>\n",
              "  </tbody>\n",
              "</table>\n",
              "</div>"
            ],
            "text/plain": [
              "        TV  radio  newspaper  sales  prediction_lr\n",
              "79     5.4   29.9        9.4    5.3       8.762701\n",
              "133    8.4   27.2        2.1    5.7       8.428326\n",
              "28   240.1   16.7       22.9   15.9      17.139641\n",
              "68   139.3   14.5       10.2   13.4      12.094925\n",
              "100  135.2   41.7       45.9   17.2      16.851507"
            ]
          },
          "metadata": {
            "tags": []
          },
          "execution_count": 20
        }
      ]
    },
    {
      "cell_type": "code",
      "metadata": {
        "colab": {
          "base_uri": "https://localhost:8080/"
        },
        "id": "39UsfWMFslmk",
        "outputId": "2d9734c7-a62c-45fb-ad56-177d3e8971a6"
      },
      "source": [
        "from sklearn.metrics import mean_squared_error\n",
        "y = test_data[['sales']].values\n",
        "X = np.hstack([np.ones([len(test_data), 1]), test_data[input_cols].values])\n",
        "theta = np.linalg.inv(X.T.dot(X)).dot(X.T).dot(y)\n",
        "print(theta)"
      ],
      "execution_count": null,
      "outputs": [
        {
          "output_type": "stream",
          "text": [
            "[[2.96078473]\n",
            " [0.04252093]\n",
            " [0.18920429]\n",
            " [0.01704122]]\n"
          ],
          "name": "stdout"
        }
      ]
    },
    {
      "cell_type": "code",
      "metadata": {
        "colab": {
          "base_uri": "https://localhost:8080/"
        },
        "id": "uC11__MLbVq2",
        "outputId": "88e315e2-faa1-4bb8-9d43-74e1cd3de0a0"
      },
      "source": [
        "# Calculate the MSE cost of the toy example for the parameter values given by sci-kit learn.\n",
        "\n",
        "theta = np.array([3.561, 0.041, 0.194, 0.004])\n",
        "\n",
        "list_errors = []\n",
        "\n",
        "for i in test_data.index:\n",
        "    # print(i)\n",
        "    x = np.array([1, test_data.loc[i, \"TV\"], test_data.loc[i, \"radio\"], test_data.loc[i, \"newspaper\"]])\n",
        "    theta_dot_x = theta.dot(x)\n",
        "    y = test_data.loc[i, \"sales\"]\n",
        "    squared_error = (theta_dot_x - y) ** 2\n",
        "    list_errors.append(squared_error)\n",
        "\n",
        "print(list_errors)\n",
        "MSE_lr = np.mean(list_errors)\n",
        "print(\"MSE_lr:\", MSE_lr)"
      ],
      "execution_count": null,
      "outputs": [
        {
          "output_type": "stream",
          "text": [
            "[18.66758436, 12.184288359999998, 0.6997322499999985, 1.622821209999994, 0.031541760000000627, 0.0289340100000005, 0.7473602499999993, 0.0841580100000004, 0.06932689000000052, 1.20297024, 0.4424910400000006, 5.4709209999999935, 4.594163559999999, 1.193774760000002, 2.3740646400000025, 2.0252136099999944, 3.6046819599999935, 0.3314304899999973, 0.05239520999999974, 1.0770288400000014, 1.5602508099999963, 2.742667210000007, 0.00036864000000005523, 0.8410724099999992, 5.6591652099999905, 4.051363840000001, 1.3128576399999987, 0.20457528999999933, 0.5587562499999981, 1.225227609999999, 1.0442796099999991, 1.708249000000001, 1.2148448399999996, 1.5715129599999969, 1.9052280900000003, 0.03763600000000032, 0.24324623999999986, 3.504009609999997, 0.857846440000006, 12.313782809999976]\n",
            "MSE_lr: 2.4765455739999984\n"
          ],
          "name": "stdout"
        }
      ]
    },
    {
      "cell_type": "markdown",
      "metadata": {
        "id": "Rzx1EcUStz3I"
      },
      "source": [
        "3.  Build a degree 2 polynomial regression model with 'TV', 'Radio', and 'newspaper' as input variables and 'sales' as output variable. Name the model model_pr2. Train the model on the training set and obtain model predictions on the test set."
      ]
    },
    {
      "cell_type": "code",
      "metadata": {
        "colab": {
          "base_uri": "https://localhost:8080/"
        },
        "id": "WkvcKRnyt1_o",
        "outputId": "d3479c31-c943-4d4c-93f2-880c65a056dd"
      },
      "source": [
        "input_cols = [\"TV\", \"radio\", \"newspaper\"]\n",
        "from sklearn.linear_model import LinearRegression\n",
        "from sklearn.metrics import mean_squared_error\n",
        "from sklearn.preprocessing import PolynomialFeatures\n",
        "poly_features = PolynomialFeatures(degree=2, include_bias=False)\n",
        "X = training_data[input_cols].values\n",
        "Y = training_data[\"sales\"].values\n",
        "X_poly = poly_features.fit_transform(X)\n",
        "\n",
        "model_pr2 = LinearRegression()\n",
        "model_pr2.fit(X_poly, Y)\n",
        "\n",
        "X_test = test_data[input_cols].values\n",
        "Y_test = test_data[\"sales\"].values\n",
        "X_poly_test = poly_features.fit_transform(X_test)\n",
        "predictions_pr2 = model_pr2.predict(X_poly_test)\n",
        "MSE_pr2 = mean_squared_error(Y_test, predictions_pr2)\n",
        "\n",
        "print(\"MSE_pr2: \", MSE_pr2)\n"
      ],
      "execution_count": null,
      "outputs": [
        {
          "output_type": "stream",
          "text": [
            "MSE_pr2:  0.22484627390703782\n"
          ],
          "name": "stdout"
        }
      ]
    },
    {
      "cell_type": "markdown",
      "metadata": {
        "id": "QiQGfIVjamwe"
      },
      "source": [
        "4.  Build a degree 10 polynomial regression model with 'TV', 'Radio', and 'newspaper' as input variables and 'sales' as output variable. Name the model model_pr10. Train the model on the training set and obtain model predictions on the test set."
      ]
    },
    {
      "cell_type": "code",
      "metadata": {
        "colab": {
          "base_uri": "https://localhost:8080/"
        },
        "id": "nrT3q8CKaoik",
        "outputId": "e0b404b3-cb7d-4483-9769-3ff7c606f9f2"
      },
      "source": [
        "input_cols = [\"TV\", \"radio\", \"newspaper\"]\n",
        "from sklearn.preprocessing import PolynomialFeatures\n",
        "poly_features = PolynomialFeatures(degree=10, include_bias=False)\n",
        "X = training_data[input_cols].values\n",
        "Y = training_data[\"sales\"].values\n",
        "X_poly = poly_features.fit_transform(X)\n",
        "\n",
        "model_pr10 = LinearRegression()\n",
        "model_pr10.fit(X_poly, Y)\n",
        "\n",
        "X_test = test_data[input_cols].values\n",
        "Y_test = test_data[\"sales\"].values\n",
        "X_poly_test = poly_features.fit_transform(X_test)\n",
        "predictions_pr10 = model_pr10.predict(X_poly_test)\n",
        "\n",
        "MSE_pr10 = mean_squared_error(Y_test, predictions_pr10)\n",
        "\n",
        "print(\"MSE_pr10: \", MSE_pr10)"
      ],
      "execution_count": null,
      "outputs": [
        {
          "output_type": "stream",
          "text": [
            "MSE_pr10:  725681.7659189512\n"
          ],
          "name": "stdout"
        }
      ]
    },
    {
      "cell_type": "markdown",
      "metadata": {
        "id": "RO8XwUvebCGZ"
      },
      "source": [
        " Calculate the test MSE of each model using the mean_squared_error function. Which model gives the best MSE?"
      ]
    },
    {
      "cell_type": "code",
      "metadata": {
        "colab": {
          "base_uri": "https://localhost:8080/"
        },
        "id": "rMPAY5sEbDOa",
        "outputId": "99dcf1df-cf5c-4737-9e51-fd6fcd09f641"
      },
      "source": [
        "print('MSE_lr: ', MSE_lr)\n",
        "print('MSE_pr2: ', MSE_pr2)\n",
        "print('MSE_pr10: ', MSE_pr10)\n",
        "print('The model that gives the best MSE is a degree 2 polynomial regression model' )"
      ],
      "execution_count": null,
      "outputs": [
        {
          "output_type": "stream",
          "text": [
            "MSE_lr:  2.4765455739999984\n",
            "MSE_pr2:  0.22484627390703782\n",
            "MSE_pr10:  725681.7659189512\n",
            "The model that gives the best MSE is a degree 2 polynomial regression model\n"
          ],
          "name": "stdout"
        }
      ]
    }
  ]
}